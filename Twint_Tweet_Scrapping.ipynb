{
 "cells": [
  {
   "cell_type": "code",
   "execution_count": 58,
   "id": "b554b8bf",
   "metadata": {},
   "outputs": [],
   "source": [
    "import nest_asyncio\n",
    "nest_asyncio.apply()"
   ]
  },
  {
   "cell_type": "code",
   "execution_count": 65,
   "id": "5d6cbf23",
   "metadata": {},
   "outputs": [],
   "source": [
    "import twint\n",
    "from datetime import datetime, date, timedelta"
   ]
  },
  {
   "cell_type": "code",
   "execution_count": 66,
   "id": "2da48de1",
   "metadata": {},
   "outputs": [],
   "source": [
    "# Set up TWINT config\n",
    "c = twint.Config()"
   ]
  },
  {
   "cell_type": "code",
   "execution_count": 75,
   "id": "c7c45cc4",
   "metadata": {},
   "outputs": [
    {
     "name": "stdout",
     "output_type": "stream",
     "text": [
      "date and time = 2022-04-08 15:39:46\n"
     ]
    }
   ],
   "source": [
    "# Set up time substract 10 minutes early\n",
    "now = datetime.now() - timedelta(hours=0, minutes=10)\n",
    "\n",
    "dt_string = now.strftime(\"%Y-%m-%d %H:%M:%S\") \n",
    "print(\"date and time =\", dt_string)\n",
    "\n",
    "since = dt_string"
   ]
  },
  {
   "cell_type": "code",
   "execution_count": 76,
   "id": "5e812a33",
   "metadata": {},
   "outputs": [
    {
     "name": "stdout",
     "output_type": "stream",
     "text": [
      "1512351916038057989 2022-04-08 15:49:29 +0700 <putralfaridzi> ngabuburitnya teman gua nonton reels di facebook wkwk dan dengan koneksi indihome yang lancar teman gua jadi asik banget scrollnya  https://t.co/B0M1YRSKLP\n",
      "1512351823633739777 2022-04-08 15:49:07 +0700 <bedesauhatisaya> Kalo mgelag modem direstart apa diketok pake palu? @IndiHome\n",
      "1512351678313680896 2022-04-08 15:48:32 +0700 <mochalotas> eh indihome kenapasi\n",
      "1512351622688817152 2022-04-08 15:48:19 +0700 <FaizalBaskara> @indihome jembvt nguteko wifimu ki jek kanggo woy blok\n",
      "1512351465519517697 2022-04-08 15:47:42 +0700 <ElmasturG> @IndiHome hallo sore , kakak saya mau berhenti berlangganan . Terimakasih.\n",
      "1512351333487366144 2022-04-08 15:47:10 +0700 <uwistory21> Kebiasaan temen aku banget nih nonton streaming e-sport sambil chill apalagi koneksi indihome yang mendukung aktivitas tiap hari  https://t.co/RBc3prUNc5\n",
      "1512351246773936133 2022-04-08 15:46:50 +0700 <s12072002> ya Allah ini indihome gue knp sih, masa udah seminggu nge-lag pol weh 😭. Buka ig gabisa liat beranda, cuma bisa dm an doang, buka twitter jg susah liat foto. Syedihh 😭\n",
      "1512351052255084546 2022-04-08 15:46:03 +0700 <bbbbakkka> @aintlova indihome ku gak akn ktipu  https://t.co/OmIqjbUshc\n",
      "1512351010081353731 2022-04-08 15:45:53 +0700 <NadaSyifa396> ngabuburitnya liat live instagram bersama Ust Ahmad Qusairi di ignya @TelkomJabar internet lancar pake #IndiHome  https://t.co/SoDPtwWTll\n",
      "1512350860734787584 2022-04-08 15:45:17 +0700 <Lisuthfi> @loudersist @IndiHome Tuku router Huawei di Tokped, isi kartu XL, isi paket Hotrod sis.  Aku ngehost Webinar 800an orang dari tahun 2021 gaada masalah.\n",
      "1512350687623262214 2022-04-08 15:44:36 +0700 <LiuuBiao> Goodjob indihome  https://t.co/s8TfvPPZd6\n",
      "1512350527409238019 2022-04-08 15:43:58 +0700 <SpreiGorden> @IndiHomeCare Seberapa cepat Tanggapan indihome kak, Seumpama Kalau sy DM\n",
      "1512350504256696324 2022-04-08 15:43:52 +0700 <halifi01> Ngabuburit dulu sobat bareng temen2. Jangan lupa bikin konten ya, trus di upload pakai Indihome. #InternetnyaIndonesia  #AktivitasTanpaBatas  https://t.co/vUo3c8CIVS\n",
      "1512350157836152832 2022-04-08 15:42:30 +0700 <IndiHomeCare> @ramaka04 Halo, Kak Rio. Saat ini registrasi pasang baru IndiHome lebih mudah melalui aplikasi myIndiHome. Unduh aplikasi myIndiHome di Play Store atau App Store pada gadget atau kunjungi website...  https://t.co/gptUBsZ4Y9\n",
      "1512349924418985988 2022-04-08 15:41:34 +0700 <kaihunappa> Indihome oh indihomeee\n",
      "1512349713671938054 2022-04-08 15:40:44 +0700 <IndiHomeCare> @ariorama_ Hai, Kak Ario. Diinformasikan registrasi pasang baru IndiHome bisa melalui aplikasi myIndiHome atau melalui kami, ya. Terima kasih. -Nyil\n",
      "1512349704461303810 2022-04-08 15:40:42 +0700 <DwiKurn1999> Daripada bingung mau ngabuburit kemana, mending nonton BWF Korea Open aja ah di channel SPOTV IndiHome..  #InternetnyaIndonesia  #AktivitasTanpaBatas  https://t.co/bfABFT2dnU\n",
      "1512349650010853376 2022-04-08 15:40:29 +0700 <SelenaVirus17> @IndiHomeCare Mantap IndiHome\n",
      "1512349617693679621 2022-04-08 15:40:21 +0700 <Edogant47542681> Jaga kesehatan, olahraga,dan isitirahat yang cukup. Di kondisi kaya gini penting banget buat jaga stamina kita.Kalo tubuh fit pasti kerjaan cepet selesei apalagi dibantu IndiHome yg buat makin semangat nyeleseinnya🥰 #aktifkreatif #internetnyaindonesia #aktivitastanpabatas  https://t.co/3nFtaQz5AM\n",
      "1512349613272961025 2022-04-08 15:40:20 +0700 <emfaisal> @IndiHome Min saya mau stop langganan internet, wifiid dan tv indihome dong, kecuali telpon. ID 122110269080.\n",
      "1512349573016027137 2022-04-08 15:40:10 +0700 <a11toowelll> @f1speed_indo Aussihome (indihome versi australianya)\n"
     ]
    }
   ],
   "source": [
    "# Custom output format\n",
    "c.Search = \"Indihome\"\n",
    "c.Limit = 300\n",
    "c.Pandas = True\n",
    "c.Since = since\n",
    "twint.run.Search(c)"
   ]
  },
  {
   "cell_type": "code",
   "execution_count": 80,
   "id": "0637c9be",
   "metadata": {},
   "outputs": [
    {
     "name": "stdout",
     "output_type": "stream",
     "text": [
      "21\n"
     ]
    }
   ],
   "source": [
    "def column_names():\n",
    "    return twint.output.panda.Tweets_df.columns\n",
    "def twint_to_pd(columns):\n",
    "    return twint.output.panda.Tweets_df[columns]\n",
    "\n",
    "column_names()\n",
    "tweet_df = twint_to_pd([\"date\", \"username\", \"tweet\"])\n",
    "tweet_df.head(10)\n",
    "\n",
    "print(len(tweet_df))"
   ]
  },
  {
   "cell_type": "code",
   "execution_count": 82,
   "id": "31b13dda",
   "metadata": {},
   "outputs": [
    {
     "data": {
      "text/html": [
       "<div>\n",
       "<style scoped>\n",
       "    .dataframe tbody tr th:only-of-type {\n",
       "        vertical-align: middle;\n",
       "    }\n",
       "\n",
       "    .dataframe tbody tr th {\n",
       "        vertical-align: top;\n",
       "    }\n",
       "\n",
       "    .dataframe thead th {\n",
       "        text-align: right;\n",
       "    }\n",
       "</style>\n",
       "<table border=\"1\" class=\"dataframe\">\n",
       "  <thead>\n",
       "    <tr style=\"text-align: right;\">\n",
       "      <th></th>\n",
       "      <th>date</th>\n",
       "      <th>username</th>\n",
       "      <th>tweet</th>\n",
       "    </tr>\n",
       "  </thead>\n",
       "  <tbody>\n",
       "    <tr>\n",
       "      <th>0</th>\n",
       "      <td>2022-04-08 15:49:29</td>\n",
       "      <td>putralfaridzi</td>\n",
       "      <td>ngabuburitnya teman gua nonton reels di facebo...</td>\n",
       "    </tr>\n",
       "    <tr>\n",
       "      <th>1</th>\n",
       "      <td>2022-04-08 15:49:07</td>\n",
       "      <td>bedesauhatisaya</td>\n",
       "      <td>Kalo mgelag modem direstart apa diketok pake p...</td>\n",
       "    </tr>\n",
       "    <tr>\n",
       "      <th>2</th>\n",
       "      <td>2022-04-08 15:48:32</td>\n",
       "      <td>mochalotas</td>\n",
       "      <td>eh indihome kenapasi</td>\n",
       "    </tr>\n",
       "    <tr>\n",
       "      <th>3</th>\n",
       "      <td>2022-04-08 15:48:19</td>\n",
       "      <td>FaizalBaskara</td>\n",
       "      <td>@indihome jembvt nguteko wifimu ki jek kanggo ...</td>\n",
       "    </tr>\n",
       "    <tr>\n",
       "      <th>4</th>\n",
       "      <td>2022-04-08 15:47:42</td>\n",
       "      <td>ElmasturG</td>\n",
       "      <td>@IndiHome hallo sore , kakak saya mau berhenti...</td>\n",
       "    </tr>\n",
       "    <tr>\n",
       "      <th>5</th>\n",
       "      <td>2022-04-08 15:47:10</td>\n",
       "      <td>uwistory21</td>\n",
       "      <td>Kebiasaan temen aku banget nih nonton streamin...</td>\n",
       "    </tr>\n",
       "    <tr>\n",
       "      <th>6</th>\n",
       "      <td>2022-04-08 15:46:50</td>\n",
       "      <td>s12072002</td>\n",
       "      <td>ya Allah ini indihome gue knp sih, masa udah s...</td>\n",
       "    </tr>\n",
       "    <tr>\n",
       "      <th>7</th>\n",
       "      <td>2022-04-08 15:46:03</td>\n",
       "      <td>bbbbakkka</td>\n",
       "      <td>@aintlova indihome ku gak akn ktipu  https://t...</td>\n",
       "    </tr>\n",
       "    <tr>\n",
       "      <th>8</th>\n",
       "      <td>2022-04-08 15:45:53</td>\n",
       "      <td>NadaSyifa396</td>\n",
       "      <td>ngabuburitnya liat live instagram bersama Ust ...</td>\n",
       "    </tr>\n",
       "    <tr>\n",
       "      <th>9</th>\n",
       "      <td>2022-04-08 15:45:17</td>\n",
       "      <td>Lisuthfi</td>\n",
       "      <td>@loudersist @IndiHome Tuku router Huawei di To...</td>\n",
       "    </tr>\n",
       "  </tbody>\n",
       "</table>\n",
       "</div>"
      ],
      "text/plain": [
       "                  date         username  \\\n",
       "0  2022-04-08 15:49:29    putralfaridzi   \n",
       "1  2022-04-08 15:49:07  bedesauhatisaya   \n",
       "2  2022-04-08 15:48:32       mochalotas   \n",
       "3  2022-04-08 15:48:19    FaizalBaskara   \n",
       "4  2022-04-08 15:47:42        ElmasturG   \n",
       "5  2022-04-08 15:47:10       uwistory21   \n",
       "6  2022-04-08 15:46:50        s12072002   \n",
       "7  2022-04-08 15:46:03        bbbbakkka   \n",
       "8  2022-04-08 15:45:53     NadaSyifa396   \n",
       "9  2022-04-08 15:45:17         Lisuthfi   \n",
       "\n",
       "                                               tweet  \n",
       "0  ngabuburitnya teman gua nonton reels di facebo...  \n",
       "1  Kalo mgelag modem direstart apa diketok pake p...  \n",
       "2                               eh indihome kenapasi  \n",
       "3  @indihome jembvt nguteko wifimu ki jek kanggo ...  \n",
       "4  @IndiHome hallo sore , kakak saya mau berhenti...  \n",
       "5  Kebiasaan temen aku banget nih nonton streamin...  \n",
       "6  ya Allah ini indihome gue knp sih, masa udah s...  \n",
       "7  @aintlova indihome ku gak akn ktipu  https://t...  \n",
       "8  ngabuburitnya liat live instagram bersama Ust ...  \n",
       "9  @loudersist @IndiHome Tuku router Huawei di To...  "
      ]
     },
     "execution_count": 82,
     "metadata": {},
     "output_type": "execute_result"
    }
   ],
   "source": [
    "tweet_df.head(10)"
   ]
  },
  {
   "cell_type": "code",
   "execution_count": 83,
   "id": "df5026ac",
   "metadata": {},
   "outputs": [],
   "source": [
    "tweet_df.to_csv('tweets.csv')"
   ]
  }
 ],
 "metadata": {
  "kernelspec": {
   "display_name": "Python 3 (ipykernel)",
   "language": "python",
   "name": "python3"
  },
  "language_info": {
   "codemirror_mode": {
    "name": "ipython",
    "version": 3
   },
   "file_extension": ".py",
   "mimetype": "text/x-python",
   "name": "python",
   "nbconvert_exporter": "python",
   "pygments_lexer": "ipython3",
   "version": "3.9.7"
  }
 },
 "nbformat": 4,
 "nbformat_minor": 5
}
