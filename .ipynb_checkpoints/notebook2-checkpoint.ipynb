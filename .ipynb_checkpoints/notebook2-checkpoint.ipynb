{
 "cells": [
  {
   "cell_type": "markdown",
   "metadata": {
    "cell_id": "bbbb07801a854b16ad5e39266d1e2b3a",
    "deepnote_cell_height": 69.9375,
    "deepnote_cell_type": "markdown",
    "tags": []
   },
   "source": [
    "## Libraries"
   ]
  },
  {
   "cell_type": "code",
   "execution_count": 3,
   "metadata": {
    "cell_id": "ff731de7-0f74-48c6-82b1-c53f0c1cb998",
    "deepnote_cell_height": 368.921875,
    "deepnote_cell_type": "code",
    "deepnote_to_be_reexecuted": false,
    "execution_millis": 5164,
    "execution_start": 1648560676275,
    "source_hash": "de7dc930",
    "tags": []
   },
   "outputs": [],
   "source": [
    "# Import Libarary\n",
    "\n",
    "# data analysis\n",
    "import numpy as np\n",
    "import pandas as pd\n",
    "\n",
    "# data visualization\n",
    "import matplotlib.pyplot as plt\n",
    "import seaborn as sns\n",
    "\n",
    "# modeling\n",
    "import tensorflow as tf\n",
    "import tensorflow.keras as keras\n",
    "\n",
    "# set seed\n",
    "import random\n"
   ]
  },
  {
   "cell_type": "code",
   "execution_count": 4,
   "metadata": {
    "cell_id": "59bab073ed38481785ed8a18bc1f170d",
    "deepnote_cell_height": 134.921875,
    "deepnote_cell_type": "code",
    "deepnote_to_be_reexecuted": false,
    "execution_millis": 0,
    "execution_start": 1648560681445,
    "source_hash": "2c7cd6b1",
    "tags": []
   },
   "outputs": [],
   "source": [
    "# set seed\n",
    "random.seed(123)\n",
    "np.random.seed(123)\n",
    "tf.random.set_seed(123)"
   ]
  },
  {
   "cell_type": "code",
   "execution_count": 25,
   "metadata": {
    "cell_id": "3c52daee06e84db0b14439127dc62db3",
    "deepnote_cell_height": 98.921875,
    "deepnote_cell_type": "code",
    "deepnote_to_be_reexecuted": false,
    "execution_millis": 21,
    "execution_start": 1648560681446,
    "source_hash": "9e171290",
    "tags": []
   },
   "outputs": [],
   "source": [
    "# Open csv file\n",
    "df = pd.read_csv('dataset/tweetlabels1000_labeled.xlsx - Sheet2.csv')"
   ]
  },
  {
   "cell_type": "code",
   "execution_count": 27,
   "metadata": {
    "cell_id": "c1e4845dbf4d4dc8b730f78d4ebf6351",
    "deepnote_cell_height": 392.84375,
    "deepnote_cell_type": "code",
    "deepnote_table_loading": false,
    "deepnote_table_state": {
     "filters": [],
     "pageIndex": 0,
     "pageSize": 25,
     "sortBy": []
    },
    "deepnote_to_be_reexecuted": false,
    "execution_millis": 25,
    "execution_start": 1648560681603,
    "source_hash": "c085b6ba",
    "tags": []
   },
   "outputs": [
    {
     "data": {
      "text/html": [
       "<div>\n",
       "<style scoped>\n",
       "    .dataframe tbody tr th:only-of-type {\n",
       "        vertical-align: middle;\n",
       "    }\n",
       "\n",
       "    .dataframe tbody tr th {\n",
       "        vertical-align: top;\n",
       "    }\n",
       "\n",
       "    .dataframe thead th {\n",
       "        text-align: right;\n",
       "    }\n",
       "</style>\n",
       "<table border=\"1\" class=\"dataframe\">\n",
       "  <thead>\n",
       "    <tr style=\"text-align: right;\">\n",
       "      <th></th>\n",
       "      <th>No</th>\n",
       "      <th>Label</th>\n",
       "      <th>Username</th>\n",
       "      <th>Tweet</th>\n",
       "    </tr>\n",
       "  </thead>\n",
       "  <tbody>\n",
       "    <tr>\n",
       "      <th>0</th>\n",
       "      <td>0</td>\n",
       "      <td>none</td>\n",
       "      <td>chyrisalys</td>\n",
       "      <td>wifi watcha pasti indihome</td>\n",
       "    </tr>\n",
       "    <tr>\n",
       "      <th>1</th>\n",
       "      <td>1</td>\n",
       "      <td>indirect complaint</td>\n",
       "      <td>woiidal</td>\n",
       "      <td>indihome ada masalah apasih??!!</td>\n",
       "    </tr>\n",
       "    <tr>\n",
       "      <th>2</th>\n",
       "      <td>2</td>\n",
       "      <td>remark</td>\n",
       "      <td>ranieaw</td>\n",
       "      <td>sore sore hujan rebahan bareng bocil nonton nu...</td>\n",
       "    </tr>\n",
       "    <tr>\n",
       "      <th>3</th>\n",
       "      <td>3</td>\n",
       "      <td>negative remark</td>\n",
       "      <td>daeguv_</td>\n",
       "      <td>indihome plis untuk tanggal 10,13 jangan kesur...</td>\n",
       "    </tr>\n",
       "    <tr>\n",
       "      <th>4</th>\n",
       "      <td>4</td>\n",
       "      <td>indirect complaint</td>\n",
       "      <td>fiorincha</td>\n",
       "      <td>INDIHOME NGAPASIIII</td>\n",
       "    </tr>\n",
       "    <tr>\n",
       "      <th>...</th>\n",
       "      <td>...</td>\n",
       "      <td>...</td>\n",
       "      <td>...</td>\n",
       "      <td>...</td>\n",
       "    </tr>\n",
       "    <tr>\n",
       "      <th>998</th>\n",
       "      <td>998</td>\n",
       "      <td>campaign</td>\n",
       "      <td>sangwarior</td>\n",
       "      <td>Bisa sharing bareng sobat indihome gini kan as...</td>\n",
       "    </tr>\n",
       "    <tr>\n",
       "      <th>999</th>\n",
       "      <td>999</td>\n",
       "      <td>campaign</td>\n",
       "      <td>sangwarior</td>\n",
       "      <td>Sekarang nyantai dulu bentar sambil scroll sos...</td>\n",
       "    </tr>\n",
       "    <tr>\n",
       "      <th>1000</th>\n",
       "      <td>1000</td>\n",
       "      <td>negative remark</td>\n",
       "      <td>untextend</td>\n",
       "      <td>@JefriHandri Sini indihome down dr semalem jam...</td>\n",
       "    </tr>\n",
       "    <tr>\n",
       "      <th>1001</th>\n",
       "      <td>1001</td>\n",
       "      <td>campaign</td>\n",
       "      <td>sangwarior</td>\n",
       "      <td>Ini barusan slesei sob... Lumayan buat nyari k...</td>\n",
       "    </tr>\n",
       "    <tr>\n",
       "      <th>1002</th>\n",
       "      <td>1002</td>\n",
       "      <td>inquiry</td>\n",
       "      <td>narshashila</td>\n",
       "      <td>@IndiHomeCare daftar indihome lewat mana?</td>\n",
       "    </tr>\n",
       "  </tbody>\n",
       "</table>\n",
       "<p>1003 rows × 4 columns</p>\n",
       "</div>"
      ],
      "text/plain": [
       "        No               Label     Username  \\\n",
       "0        0                none   chyrisalys   \n",
       "1        1  indirect complaint      woiidal   \n",
       "2        2              remark      ranieaw   \n",
       "3        3     negative remark      daeguv_   \n",
       "4        4  indirect complaint    fiorincha   \n",
       "...    ...                 ...          ...   \n",
       "998    998            campaign   sangwarior   \n",
       "999    999            campaign   sangwarior   \n",
       "1000  1000     negative remark    untextend   \n",
       "1001  1001            campaign   sangwarior   \n",
       "1002  1002             inquiry  narshashila   \n",
       "\n",
       "                                                  Tweet  \n",
       "0                            wifi watcha pasti indihome  \n",
       "1                       indihome ada masalah apasih??!!  \n",
       "2     sore sore hujan rebahan bareng bocil nonton nu...  \n",
       "3     indihome plis untuk tanggal 10,13 jangan kesur...  \n",
       "4                                   INDIHOME NGAPASIIII  \n",
       "...                                                 ...  \n",
       "998   Bisa sharing bareng sobat indihome gini kan as...  \n",
       "999   Sekarang nyantai dulu bentar sambil scroll sos...  \n",
       "1000  @JefriHandri Sini indihome down dr semalem jam...  \n",
       "1001  Ini barusan slesei sob... Lumayan buat nyari k...  \n",
       "1002          @IndiHomeCare daftar indihome lewat mana?  \n",
       "\n",
       "[1003 rows x 4 columns]"
      ]
     },
     "execution_count": 27,
     "metadata": {},
     "output_type": "execute_result"
    }
   ],
   "source": [
    "df"
   ]
  },
  {
   "cell_type": "markdown",
   "metadata": {
    "cell_id": "e1aff9752692454b920cb5c316d614cf",
    "deepnote_cell_height": 69.9375,
    "deepnote_cell_type": "markdown",
    "deepnote_to_be_reexecuted": false,
    "execution_millis": 0,
    "execution_start": 1648554966380,
    "source_hash": "1bbe62e0",
    "tags": []
   },
   "source": [
    "## Preprocessing"
   ]
  },
  {
   "cell_type": "code",
   "execution_count": 30,
   "metadata": {
    "cell_id": "5f959f8615cd4ba582df5be27613f80f",
    "deepnote_cell_height": 665.78125,
    "deepnote_cell_type": "code",
    "deepnote_table_loading": false,
    "deepnote_table_state": {
     "filters": [
      {
       "id": "Label",
       "type": "contains",
       "value": ""
      }
     ],
     "pageIndex": 0,
     "pageSize": 10,
     "sortBy": []
    },
    "deepnote_to_be_reexecuted": false,
    "execution_millis": 24,
    "execution_start": 1648560681649,
    "source_hash": "e22fff7e",
    "tags": []
   },
   "outputs": [
    {
     "data": {
      "text/html": [
       "<div>\n",
       "<style scoped>\n",
       "    .dataframe tbody tr th:only-of-type {\n",
       "        vertical-align: middle;\n",
       "    }\n",
       "\n",
       "    .dataframe tbody tr th {\n",
       "        vertical-align: top;\n",
       "    }\n",
       "\n",
       "    .dataframe thead th {\n",
       "        text-align: right;\n",
       "    }\n",
       "</style>\n",
       "<table border=\"1\" class=\"dataframe\">\n",
       "  <thead>\n",
       "    <tr style=\"text-align: right;\">\n",
       "      <th></th>\n",
       "      <th>No</th>\n",
       "      <th>Label</th>\n",
       "      <th>Username</th>\n",
       "      <th>Tweet</th>\n",
       "    </tr>\n",
       "  </thead>\n",
       "  <tbody>\n",
       "    <tr>\n",
       "      <th>0</th>\n",
       "      <td>0</td>\n",
       "      <td>none</td>\n",
       "      <td>chyrisalys</td>\n",
       "      <td>wifi watcha pasti indihome</td>\n",
       "    </tr>\n",
       "    <tr>\n",
       "      <th>1</th>\n",
       "      <td>1</td>\n",
       "      <td>indirect complaint</td>\n",
       "      <td>woiidal</td>\n",
       "      <td>indihome ada masalah apasih??!!</td>\n",
       "    </tr>\n",
       "    <tr>\n",
       "      <th>2</th>\n",
       "      <td>2</td>\n",
       "      <td>remark</td>\n",
       "      <td>ranieaw</td>\n",
       "      <td>sore sore hujan rebahan bareng bocil nonton nu...</td>\n",
       "    </tr>\n",
       "    <tr>\n",
       "      <th>3</th>\n",
       "      <td>3</td>\n",
       "      <td>negative remark</td>\n",
       "      <td>daeguv_</td>\n",
       "      <td>indihome plis untuk tanggal 10,13 jangan kesur...</td>\n",
       "    </tr>\n",
       "    <tr>\n",
       "      <th>4</th>\n",
       "      <td>4</td>\n",
       "      <td>indirect complaint</td>\n",
       "      <td>fiorincha</td>\n",
       "      <td>INDIHOME NGAPASIIII</td>\n",
       "    </tr>\n",
       "    <tr>\n",
       "      <th>...</th>\n",
       "      <td>...</td>\n",
       "      <td>...</td>\n",
       "      <td>...</td>\n",
       "      <td>...</td>\n",
       "    </tr>\n",
       "    <tr>\n",
       "      <th>994</th>\n",
       "      <td>994</td>\n",
       "      <td>inquiry</td>\n",
       "      <td>pecintamochi</td>\n",
       "      <td>@IndiHomeCare Min, kalo jatuh tempo pembayaran...</td>\n",
       "    </tr>\n",
       "    <tr>\n",
       "      <th>995</th>\n",
       "      <td>995</td>\n",
       "      <td>inquiry</td>\n",
       "      <td>tetehaisyah51</td>\n",
       "      <td>@IndiHomeCare Min, 1 IndiHome TV bisa gak berl...</td>\n",
       "    </tr>\n",
       "    <tr>\n",
       "      <th>997</th>\n",
       "      <td>997</td>\n",
       "      <td>direct complaint</td>\n",
       "      <td>untextend</td>\n",
       "      <td>@IndiHomeCare @fauzindrianto Dari semalem down...</td>\n",
       "    </tr>\n",
       "    <tr>\n",
       "      <th>1000</th>\n",
       "      <td>1000</td>\n",
       "      <td>negative remark</td>\n",
       "      <td>untextend</td>\n",
       "      <td>@JefriHandri Sini indihome down dr semalem jam...</td>\n",
       "    </tr>\n",
       "    <tr>\n",
       "      <th>1002</th>\n",
       "      <td>1002</td>\n",
       "      <td>inquiry</td>\n",
       "      <td>narshashila</td>\n",
       "      <td>@IndiHomeCare daftar indihome lewat mana?</td>\n",
       "    </tr>\n",
       "  </tbody>\n",
       "</table>\n",
       "<p>722 rows × 4 columns</p>\n",
       "</div>"
      ],
      "text/plain": [
       "        No               Label       Username  \\\n",
       "0        0                none     chyrisalys   \n",
       "1        1  indirect complaint        woiidal   \n",
       "2        2              remark        ranieaw   \n",
       "3        3     negative remark        daeguv_   \n",
       "4        4  indirect complaint      fiorincha   \n",
       "...    ...                 ...            ...   \n",
       "994    994             inquiry   pecintamochi   \n",
       "995    995             inquiry  tetehaisyah51   \n",
       "997    997    direct complaint      untextend   \n",
       "1000  1000     negative remark      untextend   \n",
       "1002  1002             inquiry    narshashila   \n",
       "\n",
       "                                                  Tweet  \n",
       "0                            wifi watcha pasti indihome  \n",
       "1                       indihome ada masalah apasih??!!  \n",
       "2     sore sore hujan rebahan bareng bocil nonton nu...  \n",
       "3     indihome plis untuk tanggal 10,13 jangan kesur...  \n",
       "4                                   INDIHOME NGAPASIIII  \n",
       "...                                                 ...  \n",
       "994   @IndiHomeCare Min, kalo jatuh tempo pembayaran...  \n",
       "995   @IndiHomeCare Min, 1 IndiHome TV bisa gak berl...  \n",
       "997   @IndiHomeCare @fauzindrianto Dari semalem down...  \n",
       "1000  @JefriHandri Sini indihome down dr semalem jam...  \n",
       "1002          @IndiHomeCare daftar indihome lewat mana?  \n",
       "\n",
       "[722 rows x 4 columns]"
      ]
     },
     "execution_count": 30,
     "metadata": {},
     "output_type": "execute_result"
    }
   ],
   "source": [
    "# drop rows with label = campaign, own tweet, & incomplete\n",
    "df = df.loc[~df['Label'].isin(['campaign','own tweet','incomplete'])]\n",
    "df"
   ]
  },
  {
   "cell_type": "code",
   "execution_count": 31,
   "metadata": {
    "cell_id": "863ee640fc16450aaf094b81a80a8703",
    "deepnote_cell_height": 779.984375,
    "deepnote_cell_type": "code",
    "deepnote_table_loading": false,
    "deepnote_table_state": {
     "filters": [],
     "pageIndex": 0,
     "pageSize": 10,
     "sortBy": []
    },
    "deepnote_to_be_reexecuted": false,
    "execution_millis": 29,
    "execution_start": 1648560681675,
    "source_hash": "7dad8990",
    "tags": []
   },
   "outputs": [
    {
     "data": {
      "text/html": [
       "<div>\n",
       "<style scoped>\n",
       "    .dataframe tbody tr th:only-of-type {\n",
       "        vertical-align: middle;\n",
       "    }\n",
       "\n",
       "    .dataframe tbody tr th {\n",
       "        vertical-align: top;\n",
       "    }\n",
       "\n",
       "    .dataframe thead th {\n",
       "        text-align: right;\n",
       "    }\n",
       "</style>\n",
       "<table border=\"1\" class=\"dataframe\">\n",
       "  <thead>\n",
       "    <tr style=\"text-align: right;\">\n",
       "      <th></th>\n",
       "      <th>No</th>\n",
       "      <th>Label</th>\n",
       "      <th>Username</th>\n",
       "      <th>Tweet</th>\n",
       "      <th>label-encoded</th>\n",
       "    </tr>\n",
       "  </thead>\n",
       "  <tbody>\n",
       "    <tr>\n",
       "      <th>0</th>\n",
       "      <td>0</td>\n",
       "      <td>none</td>\n",
       "      <td>chyrisalys</td>\n",
       "      <td>wifi watcha pasti indihome</td>\n",
       "      <td>5</td>\n",
       "    </tr>\n",
       "    <tr>\n",
       "      <th>1</th>\n",
       "      <td>1</td>\n",
       "      <td>indirect complaint</td>\n",
       "      <td>woiidal</td>\n",
       "      <td>indihome ada masalah apasih??!!</td>\n",
       "      <td>0</td>\n",
       "    </tr>\n",
       "    <tr>\n",
       "      <th>2</th>\n",
       "      <td>2</td>\n",
       "      <td>remark</td>\n",
       "      <td>ranieaw</td>\n",
       "      <td>sore sore hujan rebahan bareng bocil nonton nu...</td>\n",
       "      <td>1</td>\n",
       "    </tr>\n",
       "    <tr>\n",
       "      <th>3</th>\n",
       "      <td>3</td>\n",
       "      <td>negative remark</td>\n",
       "      <td>daeguv_</td>\n",
       "      <td>indihome plis untuk tanggal 10,13 jangan kesur...</td>\n",
       "      <td>2</td>\n",
       "    </tr>\n",
       "    <tr>\n",
       "      <th>4</th>\n",
       "      <td>4</td>\n",
       "      <td>indirect complaint</td>\n",
       "      <td>fiorincha</td>\n",
       "      <td>INDIHOME NGAPASIIII</td>\n",
       "      <td>0</td>\n",
       "    </tr>\n",
       "    <tr>\n",
       "      <th>...</th>\n",
       "      <td>...</td>\n",
       "      <td>...</td>\n",
       "      <td>...</td>\n",
       "      <td>...</td>\n",
       "      <td>...</td>\n",
       "    </tr>\n",
       "    <tr>\n",
       "      <th>994</th>\n",
       "      <td>994</td>\n",
       "      <td>inquiry</td>\n",
       "      <td>pecintamochi</td>\n",
       "      <td>@IndiHomeCare Min, kalo jatuh tempo pembayaran...</td>\n",
       "      <td>6</td>\n",
       "    </tr>\n",
       "    <tr>\n",
       "      <th>995</th>\n",
       "      <td>995</td>\n",
       "      <td>inquiry</td>\n",
       "      <td>tetehaisyah51</td>\n",
       "      <td>@IndiHomeCare Min, 1 IndiHome TV bisa gak berl...</td>\n",
       "      <td>6</td>\n",
       "    </tr>\n",
       "    <tr>\n",
       "      <th>997</th>\n",
       "      <td>997</td>\n",
       "      <td>direct complaint</td>\n",
       "      <td>untextend</td>\n",
       "      <td>@IndiHomeCare @fauzindrianto Dari semalem down...</td>\n",
       "      <td>4</td>\n",
       "    </tr>\n",
       "    <tr>\n",
       "      <th>1000</th>\n",
       "      <td>1000</td>\n",
       "      <td>negative remark</td>\n",
       "      <td>untextend</td>\n",
       "      <td>@JefriHandri Sini indihome down dr semalem jam...</td>\n",
       "      <td>2</td>\n",
       "    </tr>\n",
       "    <tr>\n",
       "      <th>1002</th>\n",
       "      <td>1002</td>\n",
       "      <td>inquiry</td>\n",
       "      <td>narshashila</td>\n",
       "      <td>@IndiHomeCare daftar indihome lewat mana?</td>\n",
       "      <td>6</td>\n",
       "    </tr>\n",
       "  </tbody>\n",
       "</table>\n",
       "<p>722 rows × 5 columns</p>\n",
       "</div>"
      ],
      "text/plain": [
       "        No               Label       Username  \\\n",
       "0        0                none     chyrisalys   \n",
       "1        1  indirect complaint        woiidal   \n",
       "2        2              remark        ranieaw   \n",
       "3        3     negative remark        daeguv_   \n",
       "4        4  indirect complaint      fiorincha   \n",
       "...    ...                 ...            ...   \n",
       "994    994             inquiry   pecintamochi   \n",
       "995    995             inquiry  tetehaisyah51   \n",
       "997    997    direct complaint      untextend   \n",
       "1000  1000     negative remark      untextend   \n",
       "1002  1002             inquiry    narshashila   \n",
       "\n",
       "                                                  Tweet  label-encoded  \n",
       "0                            wifi watcha pasti indihome              5  \n",
       "1                       indihome ada masalah apasih??!!              0  \n",
       "2     sore sore hujan rebahan bareng bocil nonton nu...              1  \n",
       "3     indihome plis untuk tanggal 10,13 jangan kesur...              2  \n",
       "4                                   INDIHOME NGAPASIIII              0  \n",
       "...                                                 ...            ...  \n",
       "994   @IndiHomeCare Min, kalo jatuh tempo pembayaran...              6  \n",
       "995   @IndiHomeCare Min, 1 IndiHome TV bisa gak berl...              6  \n",
       "997   @IndiHomeCare @fauzindrianto Dari semalem down...              4  \n",
       "1000  @JefriHandri Sini indihome down dr semalem jam...              2  \n",
       "1002          @IndiHomeCare daftar indihome lewat mana?              6  \n",
       "\n",
       "[722 rows x 5 columns]"
      ]
     },
     "execution_count": 31,
     "metadata": {},
     "output_type": "execute_result"
    }
   ],
   "source": [
    "# Label Encoding\n",
    "df['label-encoded'] = df['Label'].map({'indirect complaint': 0, 'remark': 1, 'negative remark': 2, 'direct compliment' : 3 , 'direct complaint' : 4, 'none' : 5, 'inquiry' : 6})\n",
    "df"
   ]
  },
  {
   "cell_type": "code",
   "execution_count": null,
   "metadata": {},
   "outputs": [],
   "source": []
  },
  {
   "cell_type": "code",
   "execution_count": 11,
   "metadata": {
    "cell_id": "44f99eedb64c45cd900f91e0ab5707c6",
    "deepnote_cell_height": 761.984375,
    "deepnote_cell_type": "code",
    "deepnote_to_be_reexecuted": false,
    "execution_millis": 50,
    "execution_start": 1648560681721,
    "source_hash": "3170d75c",
    "tags": []
   },
   "outputs": [
    {
     "name": "stderr",
     "output_type": "stream",
     "text": [
      "C:\\Users\\930341\\AppData\\Local\\Temp\\ipykernel_18300\\590889868.py:1: SettingWithCopyWarning: \n",
      "A value is trying to be set on a copy of a slice from a DataFrame.\n",
      "Try using .loc[row_indexer,col_indexer] = value instead\n",
      "\n",
      "See the caveats in the documentation: https://pandas.pydata.org/pandas-docs/stable/user_guide/indexing.html#returning-a-view-versus-a-copy\n",
      "  df2['text_lower'] = df2['Tweet'].str.lower()\n"
     ]
    },
    {
     "data": {
      "text/html": [
       "<div>\n",
       "<style scoped>\n",
       "    .dataframe tbody tr th:only-of-type {\n",
       "        vertical-align: middle;\n",
       "    }\n",
       "\n",
       "    .dataframe tbody tr th {\n",
       "        vertical-align: top;\n",
       "    }\n",
       "\n",
       "    .dataframe thead th {\n",
       "        text-align: right;\n",
       "    }\n",
       "</style>\n",
       "<table border=\"1\" class=\"dataframe\">\n",
       "  <thead>\n",
       "    <tr style=\"text-align: right;\">\n",
       "      <th></th>\n",
       "      <th>No</th>\n",
       "      <th>Label</th>\n",
       "      <th>Username</th>\n",
       "      <th>Tweet</th>\n",
       "      <th>label-encoded</th>\n",
       "      <th>text_lower</th>\n",
       "    </tr>\n",
       "  </thead>\n",
       "  <tbody>\n",
       "    <tr>\n",
       "      <th>0</th>\n",
       "      <td>0</td>\n",
       "      <td>none</td>\n",
       "      <td>chyrisalys</td>\n",
       "      <td>wifi watcha pasti indihome</td>\n",
       "      <td>5</td>\n",
       "      <td>wifi watcha pasti indihome</td>\n",
       "    </tr>\n",
       "    <tr>\n",
       "      <th>1</th>\n",
       "      <td>1</td>\n",
       "      <td>indirect complaint</td>\n",
       "      <td>woiidal</td>\n",
       "      <td>indihome ada masalah apasih??!!</td>\n",
       "      <td>0</td>\n",
       "      <td>indihome ada masalah apasih??!!</td>\n",
       "    </tr>\n",
       "    <tr>\n",
       "      <th>2</th>\n",
       "      <td>2</td>\n",
       "      <td>remark</td>\n",
       "      <td>ranieaw</td>\n",
       "      <td>sore sore hujan rebahan bareng bocil nonton nu...</td>\n",
       "      <td>1</td>\n",
       "      <td>sore sore hujan rebahan bareng bocil nonton nu...</td>\n",
       "    </tr>\n",
       "    <tr>\n",
       "      <th>3</th>\n",
       "      <td>3</td>\n",
       "      <td>negative remark</td>\n",
       "      <td>daeguv_</td>\n",
       "      <td>indihome plis untuk tanggal 10,13 jangan kesur...</td>\n",
       "      <td>2</td>\n",
       "      <td>indihome plis untuk tanggal 10,13 jangan kesur...</td>\n",
       "    </tr>\n",
       "    <tr>\n",
       "      <th>4</th>\n",
       "      <td>4</td>\n",
       "      <td>indirect complaint</td>\n",
       "      <td>fiorincha</td>\n",
       "      <td>INDIHOME NGAPASIIII</td>\n",
       "      <td>0</td>\n",
       "      <td>indihome ngapasiiii</td>\n",
       "    </tr>\n",
       "    <tr>\n",
       "      <th>...</th>\n",
       "      <td>...</td>\n",
       "      <td>...</td>\n",
       "      <td>...</td>\n",
       "      <td>...</td>\n",
       "      <td>...</td>\n",
       "      <td>...</td>\n",
       "    </tr>\n",
       "    <tr>\n",
       "      <th>994</th>\n",
       "      <td>994</td>\n",
       "      <td>inquiry</td>\n",
       "      <td>pecintamochi</td>\n",
       "      <td>@IndiHomeCare Min, kalo jatuh tempo pembayaran...</td>\n",
       "      <td>6</td>\n",
       "      <td>@indihomecare min, kalo jatuh tempo pembayaran...</td>\n",
       "    </tr>\n",
       "    <tr>\n",
       "      <th>995</th>\n",
       "      <td>995</td>\n",
       "      <td>inquiry</td>\n",
       "      <td>tetehaisyah51</td>\n",
       "      <td>@IndiHomeCare Min, 1 IndiHome TV bisa gak berl...</td>\n",
       "      <td>6</td>\n",
       "      <td>@indihomecare min, 1 indihome tv bisa gak berl...</td>\n",
       "    </tr>\n",
       "    <tr>\n",
       "      <th>997</th>\n",
       "      <td>997</td>\n",
       "      <td>direct complaint</td>\n",
       "      <td>untextend</td>\n",
       "      <td>@IndiHomeCare @fauzindrianto Dari semalem down...</td>\n",
       "      <td>4</td>\n",
       "      <td>@indihomecare @fauzindrianto dari semalem down...</td>\n",
       "    </tr>\n",
       "    <tr>\n",
       "      <th>1000</th>\n",
       "      <td>1000</td>\n",
       "      <td>negative remark</td>\n",
       "      <td>untextend</td>\n",
       "      <td>@JefriHandri Sini indihome down dr semalem jam...</td>\n",
       "      <td>2</td>\n",
       "      <td>@jefrihandri sini indihome down dr semalem jam...</td>\n",
       "    </tr>\n",
       "    <tr>\n",
       "      <th>1002</th>\n",
       "      <td>1002</td>\n",
       "      <td>inquiry</td>\n",
       "      <td>narshashila</td>\n",
       "      <td>@IndiHomeCare daftar indihome lewat mana?</td>\n",
       "      <td>6</td>\n",
       "      <td>@indihomecare daftar indihome lewat mana?</td>\n",
       "    </tr>\n",
       "  </tbody>\n",
       "</table>\n",
       "<p>722 rows × 6 columns</p>\n",
       "</div>"
      ],
      "text/plain": [
       "        No               Label       Username  \\\n",
       "0        0                none     chyrisalys   \n",
       "1        1  indirect complaint        woiidal   \n",
       "2        2              remark        ranieaw   \n",
       "3        3     negative remark        daeguv_   \n",
       "4        4  indirect complaint      fiorincha   \n",
       "...    ...                 ...            ...   \n",
       "994    994             inquiry   pecintamochi   \n",
       "995    995             inquiry  tetehaisyah51   \n",
       "997    997    direct complaint      untextend   \n",
       "1000  1000     negative remark      untextend   \n",
       "1002  1002             inquiry    narshashila   \n",
       "\n",
       "                                                  Tweet  label-encoded  \\\n",
       "0                            wifi watcha pasti indihome              5   \n",
       "1                       indihome ada masalah apasih??!!              0   \n",
       "2     sore sore hujan rebahan bareng bocil nonton nu...              1   \n",
       "3     indihome plis untuk tanggal 10,13 jangan kesur...              2   \n",
       "4                                   INDIHOME NGAPASIIII              0   \n",
       "...                                                 ...            ...   \n",
       "994   @IndiHomeCare Min, kalo jatuh tempo pembayaran...              6   \n",
       "995   @IndiHomeCare Min, 1 IndiHome TV bisa gak berl...              6   \n",
       "997   @IndiHomeCare @fauzindrianto Dari semalem down...              4   \n",
       "1000  @JefriHandri Sini indihome down dr semalem jam...              2   \n",
       "1002          @IndiHomeCare daftar indihome lewat mana?              6   \n",
       "\n",
       "                                             text_lower  \n",
       "0                            wifi watcha pasti indihome  \n",
       "1                       indihome ada masalah apasih??!!  \n",
       "2     sore sore hujan rebahan bareng bocil nonton nu...  \n",
       "3     indihome plis untuk tanggal 10,13 jangan kesur...  \n",
       "4                                   indihome ngapasiiii  \n",
       "...                                                 ...  \n",
       "994   @indihomecare min, kalo jatuh tempo pembayaran...  \n",
       "995   @indihomecare min, 1 indihome tv bisa gak berl...  \n",
       "997   @indihomecare @fauzindrianto dari semalem down...  \n",
       "1000  @jefrihandri sini indihome down dr semalem jam...  \n",
       "1002          @indihomecare daftar indihome lewat mana?  \n",
       "\n",
       "[722 rows x 6 columns]"
      ]
     },
     "execution_count": 11,
     "metadata": {},
     "output_type": "execute_result"
    }
   ],
   "source": [
    "df2['text_lower'] = df2['Tweet'].str.lower()\n",
    "df2"
   ]
  },
  {
   "cell_type": "code",
   "execution_count": null,
   "metadata": {
    "cell_id": "9a86bc16d04c475f9e2ed50d3c8e78b8",
    "deepnote_cell_height": 98.921875,
    "deepnote_cell_type": "code",
    "deepnote_to_be_reexecuted": false,
    "execution_millis": 3,
    "execution_start": 1648560681773,
    "source_hash": "e95e37f6",
    "tags": []
   },
   "outputs": [],
   "source": [
    "import re # regex\n",
    "import string"
   ]
  },
  {
   "cell_type": "code",
   "execution_count": null,
   "metadata": {
    "cell_id": "453c97381bee457fa6d1a9c155f6cacb",
    "deepnote_cell_height": 494.921875,
    "deepnote_cell_type": "code",
    "deepnote_to_be_reexecuted": false,
    "execution_millis": 46,
    "execution_start": 1648560681783,
    "source_hash": "84a4b33f",
    "tags": []
   },
   "outputs": [],
   "source": [
    "def text_cleansing(text):\n",
    "    \n",
    "    # remove tags\n",
    "    text = text.replace('<provider_name>', '')\n",
    "    text = text.replace('<url>', '')\n",
    "    text = text.replace('<user_mention>', '')\n",
    "    text = text.replace('<product_name>', '')\n",
    "    \n",
    "    # remove non ASCII (emoticon, chinese word, etc)\n",
    "    text = text.encode('ascii', 'replace').decode('ascii')\n",
    "    \n",
    "    # remove digits (using regex) -> subtitute\n",
    "    text = re.sub('\\d+', '', text)\n",
    "    \n",
    "    # remove punctuation, reference: https://stackoverflow.com/a/34294398\n",
    "    text = text.translate(str.maketrans('', '', string.punctuation))\n",
    "    \n",
    "    # remove whitespace in the beginning and end of sentence\n",
    "    text = text.strip()\n",
    "    \n",
    "    # remove extra whitespace in the middle of sentence (using regex)\n",
    "    text = re.sub('\\s+', ' ', text)\n",
    "    \n",
    "    return text"
   ]
  },
  {
   "cell_type": "code",
   "execution_count": null,
   "metadata": {
    "cell_id": "4272a216cb0f42b18ff91c95a1c2e151",
    "deepnote_cell_height": 230.125,
    "deepnote_cell_type": "code",
    "deepnote_to_be_reexecuted": false,
    "execution_millis": 3,
    "execution_start": 1648560681829,
    "source_hash": "bf8fb7a6",
    "tags": []
   },
   "outputs": [
    {
     "name": "stderr",
     "output_type": "stream",
     "text": [
      "/shared-libs/python3.7/py-core/lib/python3.7/site-packages/ipykernel_launcher.py:2: SettingWithCopyWarning: \n",
      "A value is trying to be set on a copy of a slice from a DataFrame.\n",
      "Try using .loc[row_indexer,col_indexer] = value instead\n",
      "\n",
      "See the caveats in the documentation: https://pandas.pydata.org/pandas-docs/stable/user_guide/indexing.html#returning-a-view-versus-a-copy\n",
      "  \n"
     ]
    }
   ],
   "source": [
    "# tampung hasil pembersihan di kolom yang baru\n",
    "df2['text_clean'] = df2['text_lower'].apply(lambda x: text_cleansing(x))"
   ]
  },
  {
   "cell_type": "code",
   "execution_count": null,
   "metadata": {
    "cell_id": "e2e09f534d0f4fc194a365634a6f9cf7",
    "deepnote_cell_height": 597.796875,
    "deepnote_cell_type": "code",
    "deepnote_to_be_reexecuted": false,
    "execution_millis": 74,
    "execution_start": 1648560681830,
    "source_hash": "caa55e2e",
    "tags": []
   },
   "outputs": [
    {
     "data": {
      "application/vnd.deepnote.dataframe.v3+json": {
       "column_count": 7,
       "columns": [
        {
         "dtype": "int64",
         "name": "No",
         "stats": {
          "histogram": [
           {
            "bin_end": 100.2,
            "bin_start": 0,
            "count": 79
           },
           {
            "bin_end": 200.4,
            "bin_start": 100.2,
            "count": 62
           },
           {
            "bin_end": 300.6,
            "bin_start": 200.4,
            "count": 75
           },
           {
            "bin_end": 400.8,
            "bin_start": 300.6,
            "count": 73
           },
           {
            "bin_end": 501,
            "bin_start": 400.8,
            "count": 67
           },
           {
            "bin_end": 601.2,
            "bin_start": 501,
            "count": 69
           },
           {
            "bin_end": 701.4,
            "bin_start": 601.2,
            "count": 71
           },
           {
            "bin_end": 801.6,
            "bin_start": 701.4,
            "count": 82
           },
           {
            "bin_end": 901.8000000000001,
            "bin_start": 801.6,
            "count": 76
           },
           {
            "bin_end": 1002,
            "bin_start": 901.8000000000001,
            "count": 68
           }
          ],
          "max": "1002",
          "min": "0",
          "nan_count": 0,
          "unique_count": 722
         }
        },
        {
         "dtype": "object",
         "name": "Label",
         "stats": {
          "categories": [
           {
            "count": 153,
            "name": "remark"
           },
           {
            "count": 128,
            "name": "negative remark"
           },
           {
            "count": 441,
            "name": "5 others"
           }
          ],
          "nan_count": 0,
          "unique_count": 7
         }
        },
        {
         "dtype": "object",
         "name": "Username",
         "stats": {
          "categories": [
           {
            "count": 11,
            "name": "ddallss_"
           },
           {
            "count": 11,
            "name": "bindihome"
           },
           {
            "count": 700,
            "name": "571 others"
           }
          ],
          "nan_count": 0,
          "unique_count": 573
         }
        },
        {
         "dtype": "object",
         "name": "Tweet",
         "stats": {
          "categories": [
           {
            "count": 5,
            "name": "@IndiHomeCare Min, 1 IndiHome TV bisa gak berlangganan 3 STB sekaligus? #MauNanyaDong"
           },
           {
            "count": 5,
            "name": "@IndiHome selamat pagi, sudah hampir sebulan pengajuan saya sejak terverifikasi belum dipasang juga. Nomor registrasi MYIR-10385614910001"
           },
           {
            "count": 712,
            "name": "708 others"
           }
          ],
          "nan_count": 0,
          "unique_count": 710
         }
        },
        {
         "dtype": "int64",
         "name": "label-encoded",
         "stats": {
          "histogram": [
           {
            "bin_end": 0.6,
            "bin_start": 0,
            "count": 68
           },
           {
            "bin_end": 1.2,
            "bin_start": 0.6,
            "count": 153
           },
           {
            "bin_end": 1.7999999999999998,
            "bin_start": 1.2,
            "count": 0
           },
           {
            "bin_end": 2.4,
            "bin_start": 1.7999999999999998,
            "count": 128
           },
           {
            "bin_end": 3,
            "bin_start": 2.4,
            "count": 0
           },
           {
            "bin_end": 3.5999999999999996,
            "bin_start": 3,
            "count": 64
           },
           {
            "bin_end": 4.2,
            "bin_start": 3.5999999999999996,
            "count": 110
           },
           {
            "bin_end": 4.8,
            "bin_start": 4.2,
            "count": 0
           },
           {
            "bin_end": 5.3999999999999995,
            "bin_start": 4.8,
            "count": 123
           },
           {
            "bin_end": 6,
            "bin_start": 5.3999999999999995,
            "count": 76
           }
          ],
          "max": "6",
          "min": "0",
          "nan_count": 0,
          "unique_count": 7
         }
        },
        {
         "dtype": "object",
         "name": "text_lower",
         "stats": {
          "categories": [
           {
            "count": 5,
            "name": "@indihomecare min, 1 indihome tv bisa gak berlangganan 3 stb sekaligus? #maunanyadong"
           },
           {
            "count": 5,
            "name": "@indihome selamat pagi, sudah hampir sebulan pengajuan saya sejak terverifikasi belum dipasang juga. nomor registrasi myir-10385614910001"
           },
           {
            "count": 712,
            "name": "707 others"
           }
          ],
          "nan_count": 0,
          "unique_count": 709
         }
        },
        {
         "dtype": "object",
         "name": "text_clean",
         "stats": {
          "categories": [
           {
            "count": 5,
            "name": "indihomecare min indihome tv bisa gak berlangganan stb sekaligus maunanyadong"
           },
           {
            "count": 5,
            "name": "indihome selamat pagi sudah hampir sebulan pengajuan saya sejak terverifikasi belum dipasang juga nomor registrasi myir"
           },
           {
            "count": 712,
            "name": "706 others"
           }
          ],
          "nan_count": 0,
          "unique_count": 708
         }
        },
        {
         "dtype": "int64",
         "name": "_deepnote_index_column"
        }
       ],
       "row_count": 722,
       "rows": [
        {
         "Label": "none",
         "No": 0,
         "Tweet": "wifi watcha pasti indihome",
         "Username": "chyrisalys",
         "_deepnote_index_column": 0,
         "label-encoded": 5,
         "text_clean": "wifi watcha pasti indihome",
         "text_lower": "wifi watcha pasti indihome"
        },
        {
         "Label": "indirect complaint",
         "No": 1,
         "Tweet": "indihome ada masalah apasih??!!",
         "Username": "woiidal",
         "_deepnote_index_column": 1,
         "label-encoded": 0,
         "text_clean": "indihome ada masalah apasih",
         "text_lower": "indihome ada masalah apasih??!!"
        },
        {
         "Label": "remark",
         "No": 2,
         "Tweet": "sore sore hujan rebahan bareng bocil nonton nussa dan rara di youtube pakek wifi IndiHome biar lancar dong😁  https://t.co/yitRsTk7w7",
         "Username": "ranieaw",
         "_deepnote_index_column": 2,
         "label-encoded": 1,
         "text_clean": "sore sore hujan rebahan bareng bocil nonton nussa dan rara di youtube pakek wifi indihome biar lancar dong httpstcoyitrstkw",
         "text_lower": "sore sore hujan rebahan bareng bocil nonton nussa dan rara di youtube pakek wifi indihome biar lancar dong😁  https://t.co/yitrstk7w7"
        },
        {
         "Label": "negative remark",
         "No": 3,
         "Tweet": "indihome plis untuk tanggal 10,13 jangan kesurupan😭",
         "Username": "daeguv_",
         "_deepnote_index_column": 3,
         "label-encoded": 2,
         "text_clean": "indihome plis untuk tanggal jangan kesurupan",
         "text_lower": "indihome plis untuk tanggal 10,13 jangan kesurupan😭"
        },
        {
         "Label": "indirect complaint",
         "No": 4,
         "Tweet": "INDIHOME NGAPASIIII",
         "Username": "fiorincha",
         "_deepnote_index_column": 4,
         "label-encoded": 0,
         "text_clean": "indihome ngapasiiii",
         "text_lower": "indihome ngapasiiii"
        },
        {
         "Label": "direct compliment",
         "No": 5,
         "Tweet": "Mager Day. 😅 Ga masalah sih mager selama masih ada koneksi dari IndiHome 😜  https://t.co/mhx8Lbij3O",
         "Username": "fancyboy2608",
         "_deepnote_index_column": 5,
         "label-encoded": 3,
         "text_clean": "mager day ga masalah sih mager selama masih ada koneksi dari indihome httpstcomhxlbijo",
         "text_lower": "mager day. 😅 ga masalah sih mager selama masih ada koneksi dari indihome 😜  https://t.co/mhx8lbij3o"
        },
        {
         "Label": "direct complaint",
         "No": 6,
         "Tweet": "asli indihome knp si nangis😭👎  #.",
         "Username": "caormilla",
         "_deepnote_index_column": 6,
         "label-encoded": 4,
         "text_clean": "asli indihome knp si nangis",
         "text_lower": "asli indihome knp si nangis😭👎  #."
        },
        {
         "Label": "direct compliment",
         "No": 7,
         "Tweet": "Baru dpt iklan dari Indihome untuk movie Dream work kayaknya keren nih. Lumayan tambahan film animasi buat bocah2 dirumah 💓  https://t.co/OWcoIMlWFq",
         "Username": "indryindryindry",
         "_deepnote_index_column": 7,
         "label-encoded": 3,
         "text_clean": "baru dpt iklan dari indihome untuk movie dream work kayaknya keren nih lumayan tambahan film animasi buat bocah dirumah httpstcoowcoimlwfq",
         "text_lower": "baru dpt iklan dari indihome untuk movie dream work kayaknya keren nih. lumayan tambahan film animasi buat bocah2 dirumah 💓  https://t.co/owcoimlwfq"
        },
        {
         "Label": "direct complaint",
         "No": 8,
         "Tweet": "Ini indihome sama kartu telkomsel aing lg bermasalah ya? Kok lelet bgt shit mo ngapain2 susah😩",
         "Username": "butterkookiezz",
         "_deepnote_index_column": 8,
         "label-encoded": 4,
         "text_clean": "ini indihome sama kartu telkomsel aing lg bermasalah ya kok lelet bgt shit mo ngapain susah",
         "text_lower": "ini indihome sama kartu telkomsel aing lg bermasalah ya? kok lelet bgt shit mo ngapain2 susah😩"
        },
        {
         "Label": "direct compliment",
         "No": 9,
         "Tweet": "Hanya di indihome gue bisa puas nonton bola",
         "Username": "minaniiiii",
         "_deepnote_index_column": 9,
         "label-encoded": 3,
         "text_clean": "hanya di indihome gue bisa puas nonton bola",
         "text_lower": "hanya di indihome gue bisa puas nonton bola"
        }
       ]
      },
      "text/html": [
       "<div>\n",
       "<style scoped>\n",
       "    .dataframe tbody tr th:only-of-type {\n",
       "        vertical-align: middle;\n",
       "    }\n",
       "\n",
       "    .dataframe tbody tr th {\n",
       "        vertical-align: top;\n",
       "    }\n",
       "\n",
       "    .dataframe thead th {\n",
       "        text-align: right;\n",
       "    }\n",
       "</style>\n",
       "<table border=\"1\" class=\"dataframe\">\n",
       "  <thead>\n",
       "    <tr style=\"text-align: right;\">\n",
       "      <th></th>\n",
       "      <th>No</th>\n",
       "      <th>Label</th>\n",
       "      <th>Username</th>\n",
       "      <th>Tweet</th>\n",
       "      <th>label-encoded</th>\n",
       "      <th>text_lower</th>\n",
       "      <th>text_clean</th>\n",
       "    </tr>\n",
       "  </thead>\n",
       "  <tbody>\n",
       "    <tr>\n",
       "      <th>0</th>\n",
       "      <td>0</td>\n",
       "      <td>none</td>\n",
       "      <td>chyrisalys</td>\n",
       "      <td>wifi watcha pasti indihome</td>\n",
       "      <td>5</td>\n",
       "      <td>wifi watcha pasti indihome</td>\n",
       "      <td>wifi watcha pasti indihome</td>\n",
       "    </tr>\n",
       "    <tr>\n",
       "      <th>1</th>\n",
       "      <td>1</td>\n",
       "      <td>indirect complaint</td>\n",
       "      <td>woiidal</td>\n",
       "      <td>indihome ada masalah apasih??!!</td>\n",
       "      <td>0</td>\n",
       "      <td>indihome ada masalah apasih??!!</td>\n",
       "      <td>indihome ada masalah apasih</td>\n",
       "    </tr>\n",
       "    <tr>\n",
       "      <th>2</th>\n",
       "      <td>2</td>\n",
       "      <td>remark</td>\n",
       "      <td>ranieaw</td>\n",
       "      <td>sore sore hujan rebahan bareng bocil nonton nu...</td>\n",
       "      <td>1</td>\n",
       "      <td>sore sore hujan rebahan bareng bocil nonton nu...</td>\n",
       "      <td>sore sore hujan rebahan bareng bocil nonton nu...</td>\n",
       "    </tr>\n",
       "    <tr>\n",
       "      <th>3</th>\n",
       "      <td>3</td>\n",
       "      <td>negative remark</td>\n",
       "      <td>daeguv_</td>\n",
       "      <td>indihome plis untuk tanggal 10,13 jangan kesur...</td>\n",
       "      <td>2</td>\n",
       "      <td>indihome plis untuk tanggal 10,13 jangan kesur...</td>\n",
       "      <td>indihome plis untuk tanggal jangan kesurupan</td>\n",
       "    </tr>\n",
       "    <tr>\n",
       "      <th>4</th>\n",
       "      <td>4</td>\n",
       "      <td>indirect complaint</td>\n",
       "      <td>fiorincha</td>\n",
       "      <td>INDIHOME NGAPASIIII</td>\n",
       "      <td>0</td>\n",
       "      <td>indihome ngapasiiii</td>\n",
       "      <td>indihome ngapasiiii</td>\n",
       "    </tr>\n",
       "    <tr>\n",
       "      <th>...</th>\n",
       "      <td>...</td>\n",
       "      <td>...</td>\n",
       "      <td>...</td>\n",
       "      <td>...</td>\n",
       "      <td>...</td>\n",
       "      <td>...</td>\n",
       "      <td>...</td>\n",
       "    </tr>\n",
       "    <tr>\n",
       "      <th>994</th>\n",
       "      <td>994</td>\n",
       "      <td>inquiry</td>\n",
       "      <td>pecintamochi</td>\n",
       "      <td>@IndiHomeCare Min, kalo jatuh tempo pembayaran...</td>\n",
       "      <td>6</td>\n",
       "      <td>@indihomecare min, kalo jatuh tempo pembayaran...</td>\n",
       "      <td>indihomecare min kalo jatuh tempo pembayaran i...</td>\n",
       "    </tr>\n",
       "    <tr>\n",
       "      <th>995</th>\n",
       "      <td>995</td>\n",
       "      <td>inquiry</td>\n",
       "      <td>tetehaisyah51</td>\n",
       "      <td>@IndiHomeCare Min, 1 IndiHome TV bisa gak berl...</td>\n",
       "      <td>6</td>\n",
       "      <td>@indihomecare min, 1 indihome tv bisa gak berl...</td>\n",
       "      <td>indihomecare min indihome tv bisa gak berlangg...</td>\n",
       "    </tr>\n",
       "    <tr>\n",
       "      <th>997</th>\n",
       "      <td>997</td>\n",
       "      <td>direct complaint</td>\n",
       "      <td>untextend</td>\n",
       "      <td>@IndiHomeCare @fauzindrianto Dari semalem down...</td>\n",
       "      <td>4</td>\n",
       "      <td>@indihomecare @fauzindrianto dari semalem down...</td>\n",
       "      <td>indihomecare fauzindrianto dari semalem down g...</td>\n",
       "    </tr>\n",
       "    <tr>\n",
       "      <th>1000</th>\n",
       "      <td>1000</td>\n",
       "      <td>negative remark</td>\n",
       "      <td>untextend</td>\n",
       "      <td>@JefriHandri Sini indihome down dr semalem jam...</td>\n",
       "      <td>2</td>\n",
       "      <td>@jefrihandri sini indihome down dr semalem jam...</td>\n",
       "      <td>jefrihandri sini indihome down dr semalem jam ...</td>\n",
       "    </tr>\n",
       "    <tr>\n",
       "      <th>1002</th>\n",
       "      <td>1002</td>\n",
       "      <td>inquiry</td>\n",
       "      <td>narshashila</td>\n",
       "      <td>@IndiHomeCare daftar indihome lewat mana?</td>\n",
       "      <td>6</td>\n",
       "      <td>@indihomecare daftar indihome lewat mana?</td>\n",
       "      <td>indihomecare daftar indihome lewat mana</td>\n",
       "    </tr>\n",
       "  </tbody>\n",
       "</table>\n",
       "<p>722 rows × 7 columns</p>\n",
       "</div>"
      ],
      "text/plain": [
       "        No               Label       Username  \\\n",
       "0        0                none     chyrisalys   \n",
       "1        1  indirect complaint        woiidal   \n",
       "2        2              remark        ranieaw   \n",
       "3        3     negative remark        daeguv_   \n",
       "4        4  indirect complaint      fiorincha   \n",
       "...    ...                 ...            ...   \n",
       "994    994             inquiry   pecintamochi   \n",
       "995    995             inquiry  tetehaisyah51   \n",
       "997    997    direct complaint      untextend   \n",
       "1000  1000     negative remark      untextend   \n",
       "1002  1002             inquiry    narshashila   \n",
       "\n",
       "                                                  Tweet  label-encoded  \\\n",
       "0                            wifi watcha pasti indihome              5   \n",
       "1                       indihome ada masalah apasih??!!              0   \n",
       "2     sore sore hujan rebahan bareng bocil nonton nu...              1   \n",
       "3     indihome plis untuk tanggal 10,13 jangan kesur...              2   \n",
       "4                                   INDIHOME NGAPASIIII              0   \n",
       "...                                                 ...            ...   \n",
       "994   @IndiHomeCare Min, kalo jatuh tempo pembayaran...              6   \n",
       "995   @IndiHomeCare Min, 1 IndiHome TV bisa gak berl...              6   \n",
       "997   @IndiHomeCare @fauzindrianto Dari semalem down...              4   \n",
       "1000  @JefriHandri Sini indihome down dr semalem jam...              2   \n",
       "1002          @IndiHomeCare daftar indihome lewat mana?              6   \n",
       "\n",
       "                                             text_lower  \\\n",
       "0                            wifi watcha pasti indihome   \n",
       "1                       indihome ada masalah apasih??!!   \n",
       "2     sore sore hujan rebahan bareng bocil nonton nu...   \n",
       "3     indihome plis untuk tanggal 10,13 jangan kesur...   \n",
       "4                                   indihome ngapasiiii   \n",
       "...                                                 ...   \n",
       "994   @indihomecare min, kalo jatuh tempo pembayaran...   \n",
       "995   @indihomecare min, 1 indihome tv bisa gak berl...   \n",
       "997   @indihomecare @fauzindrianto dari semalem down...   \n",
       "1000  @jefrihandri sini indihome down dr semalem jam...   \n",
       "1002          @indihomecare daftar indihome lewat mana?   \n",
       "\n",
       "                                             text_clean  \n",
       "0                            wifi watcha pasti indihome  \n",
       "1                           indihome ada masalah apasih  \n",
       "2     sore sore hujan rebahan bareng bocil nonton nu...  \n",
       "3          indihome plis untuk tanggal jangan kesurupan  \n",
       "4                                   indihome ngapasiiii  \n",
       "...                                                 ...  \n",
       "994   indihomecare min kalo jatuh tempo pembayaran i...  \n",
       "995   indihomecare min indihome tv bisa gak berlangg...  \n",
       "997   indihomecare fauzindrianto dari semalem down g...  \n",
       "1000  jefrihandri sini indihome down dr semalem jam ...  \n",
       "1002            indihomecare daftar indihome lewat mana  \n",
       "\n",
       "[722 rows x 7 columns]"
      ]
     },
     "execution_count": 11,
     "metadata": {},
     "output_type": "execute_result"
    }
   ],
   "source": [
    "df2"
   ]
  },
  {
   "cell_type": "code",
   "execution_count": null,
   "metadata": {
    "cell_id": "219ff6e1d2834f2ca0bcc5c7cab9d0de",
    "deepnote_cell_height": 154.109375,
    "deepnote_cell_type": "code",
    "deepnote_output_heights": [
     21.1875
    ],
    "deepnote_to_be_reexecuted": false,
    "execution_millis": 61,
    "execution_start": 1648560681907,
    "source_hash": "679e3bc7",
    "tags": []
   },
   "outputs": [
    {
     "data": {
      "text/plain": [
       "15166"
      ]
     },
     "execution_count": 12,
     "metadata": {},
     "output_type": "execute_result"
    }
   ],
   "source": [
    "normalized_word = pd.read_csv('new_kamusalay.csv', header=None)\n",
    "data_dict = dict(zip(normalized_word[0], normalized_word[1]))\n",
    "len(data_dict)"
   ]
  },
  {
   "cell_type": "code",
   "execution_count": null,
   "metadata": {
    "cell_id": "b97d93e305294072be29f1210f025aa7",
    "deepnote_cell_height": 98.921875,
    "deepnote_cell_type": "code",
    "deepnote_to_be_reexecuted": false,
    "execution_millis": 0,
    "execution_start": 1648560681952,
    "source_hash": "afeb5481",
    "tags": []
   },
   "outputs": [],
   "source": [
    "def normalize_text(text):\n",
    "    return ' '.join(data_dict.get(word, word) for word in text.split())"
   ]
  },
  {
   "cell_type": "code",
   "execution_count": null,
   "metadata": {
    "cell_id": "4ff65c37d84846b6811cff1b2d11cceb",
    "deepnote_cell_height": 782.8125,
    "deepnote_cell_type": "code",
    "deepnote_table_loading": false,
    "deepnote_table_state": {
     "filters": [],
     "pageIndex": 0,
     "pageSize": 10,
     "sortBy": []
    },
    "deepnote_to_be_reexecuted": false,
    "execution_millis": 8,
    "execution_start": 1648561217643,
    "source_hash": "5978f792",
    "tags": []
   },
   "outputs": [
    {
     "name": "stderr",
     "output_type": "stream",
     "text": [
      "/shared-libs/python3.7/py-core/lib/python3.7/site-packages/ipykernel_launcher.py:2: SettingWithCopyWarning: \n",
      "A value is trying to be set on a copy of a slice from a DataFrame.\n",
      "Try using .loc[row_indexer,col_indexer] = value instead\n",
      "\n",
      "See the caveats in the documentation: https://pandas.pydata.org/pandas-docs/stable/user_guide/indexing.html#returning-a-view-versus-a-copy\n",
      "  \n"
     ]
    },
    {
     "data": {
      "application/vnd.deepnote.dataframe.v3+json": {
       "column_count": 8,
       "columns": [
        {
         "dtype": "int64",
         "name": "No",
         "stats": {
          "histogram": [
           {
            "bin_end": 100.2,
            "bin_start": 0,
            "count": 79
           },
           {
            "bin_end": 200.4,
            "bin_start": 100.2,
            "count": 62
           },
           {
            "bin_end": 300.6,
            "bin_start": 200.4,
            "count": 75
           },
           {
            "bin_end": 400.8,
            "bin_start": 300.6,
            "count": 73
           },
           {
            "bin_end": 501,
            "bin_start": 400.8,
            "count": 67
           },
           {
            "bin_end": 601.2,
            "bin_start": 501,
            "count": 69
           },
           {
            "bin_end": 701.4,
            "bin_start": 601.2,
            "count": 71
           },
           {
            "bin_end": 801.6,
            "bin_start": 701.4,
            "count": 82
           },
           {
            "bin_end": 901.8000000000001,
            "bin_start": 801.6,
            "count": 76
           },
           {
            "bin_end": 1002,
            "bin_start": 901.8000000000001,
            "count": 68
           }
          ],
          "max": "1002",
          "min": "0",
          "nan_count": 0,
          "unique_count": 722
         }
        },
        {
         "dtype": "object",
         "name": "Label",
         "stats": {
          "categories": [
           {
            "count": 153,
            "name": "remark"
           },
           {
            "count": 128,
            "name": "negative remark"
           },
           {
            "count": 441,
            "name": "5 others"
           }
          ],
          "nan_count": 0,
          "unique_count": 7
         }
        },
        {
         "dtype": "object",
         "name": "Username",
         "stats": {
          "categories": [
           {
            "count": 11,
            "name": "ddallss_"
           },
           {
            "count": 11,
            "name": "bindihome"
           },
           {
            "count": 700,
            "name": "571 others"
           }
          ],
          "nan_count": 0,
          "unique_count": 573
         }
        },
        {
         "dtype": "object",
         "name": "Tweet",
         "stats": {
          "categories": [
           {
            "count": 5,
            "name": "@IndiHomeCare Min, 1 IndiHome TV bisa gak berlangganan 3 STB sekaligus? #MauNanyaDong"
           },
           {
            "count": 5,
            "name": "@IndiHome selamat pagi, sudah hampir sebulan pengajuan saya sejak terverifikasi belum dipasang juga. Nomor registrasi MYIR-10385614910001"
           },
           {
            "count": 712,
            "name": "708 others"
           }
          ],
          "nan_count": 0,
          "unique_count": 710
         }
        },
        {
         "dtype": "int64",
         "name": "label-encoded",
         "stats": {
          "histogram": [
           {
            "bin_end": 0.6,
            "bin_start": 0,
            "count": 68
           },
           {
            "bin_end": 1.2,
            "bin_start": 0.6,
            "count": 153
           },
           {
            "bin_end": 1.7999999999999998,
            "bin_start": 1.2,
            "count": 0
           },
           {
            "bin_end": 2.4,
            "bin_start": 1.7999999999999998,
            "count": 128
           },
           {
            "bin_end": 3,
            "bin_start": 2.4,
            "count": 0
           },
           {
            "bin_end": 3.5999999999999996,
            "bin_start": 3,
            "count": 64
           },
           {
            "bin_end": 4.2,
            "bin_start": 3.5999999999999996,
            "count": 110
           },
           {
            "bin_end": 4.8,
            "bin_start": 4.2,
            "count": 0
           },
           {
            "bin_end": 5.3999999999999995,
            "bin_start": 4.8,
            "count": 123
           },
           {
            "bin_end": 6,
            "bin_start": 5.3999999999999995,
            "count": 76
           }
          ],
          "max": "6",
          "min": "0",
          "nan_count": 0,
          "unique_count": 7
         }
        },
        {
         "dtype": "object",
         "name": "text_lower",
         "stats": {
          "categories": [
           {
            "count": 5,
            "name": "@indihomecare min, 1 indihome tv bisa gak berlangganan 3 stb sekaligus? #maunanyadong"
           },
           {
            "count": 5,
            "name": "@indihome selamat pagi, sudah hampir sebulan pengajuan saya sejak terverifikasi belum dipasang juga. nomor registrasi myir-10385614910001"
           },
           {
            "count": 712,
            "name": "707 others"
           }
          ],
          "nan_count": 0,
          "unique_count": 709
         }
        },
        {
         "dtype": "object",
         "name": "text_clean",
         "stats": {
          "categories": [
           {
            "count": 5,
            "name": "indihomecare min indihome tv bisa gak berlangganan stb sekaligus maunanyadong"
           },
           {
            "count": 5,
            "name": "indihome selamat pagi sudah hampir sebulan pengajuan saya sejak terverifikasi belum dipasang juga nomor registrasi myir"
           },
           {
            "count": 712,
            "name": "706 others"
           }
          ],
          "nan_count": 0,
          "unique_count": 708
         }
        },
        {
         "dtype": "object",
         "name": "text_normalized",
         "stats": {
          "categories": [
           {
            "count": 5,
            "name": "indihomecare min indihome televisi bisa tidak berlangganan set top box sekaligus maunanyadong"
           },
           {
            "count": 5,
            "name": "indihome selamat pagi sudah hampir sebulan pengajuan saya sejak terverifikasi belum dipasang juga nomor registrasi myir"
           },
           {
            "count": 712,
            "name": "704 others"
           }
          ],
          "nan_count": 0,
          "unique_count": 706
         }
        },
        {
         "dtype": "int64",
         "name": "_deepnote_index_column"
        }
       ],
       "row_count": 722,
       "rows": [
        {
         "Label": "none",
         "No": 0,
         "Tweet": "wifi watcha pasti indihome",
         "Username": "chyrisalys",
         "_deepnote_index_column": 0,
         "label-encoded": 5,
         "text_clean": "wifi watcha pasti indihome",
         "text_lower": "wifi watcha pasti indihome",
         "text_normalized": "wifi watcha pasti indihome"
        },
        {
         "Label": "indirect complaint",
         "No": 1,
         "Tweet": "indihome ada masalah apasih??!!",
         "Username": "woiidal",
         "_deepnote_index_column": 1,
         "label-encoded": 0,
         "text_clean": "indihome ada masalah apasih",
         "text_lower": "indihome ada masalah apasih??!!",
         "text_normalized": "indihome ada masalah apa sih"
        },
        {
         "Label": "remark",
         "No": 2,
         "Tweet": "sore sore hujan rebahan bareng bocil nonton nussa dan rara di youtube pakek wifi IndiHome biar lancar dong😁  https://t.co/yitRsTk7w7",
         "Username": "ranieaw",
         "_deepnote_index_column": 2,
         "label-encoded": 1,
         "text_clean": "sore sore hujan rebahan bareng bocil nonton nussa dan rara di youtube pakek wifi indihome biar lancar dong httpstcoyitrstkw",
         "text_lower": "sore sore hujan rebahan bareng bocil nonton nussa dan rara di youtube pakek wifi indihome biar lancar dong😁  https://t.co/yitrstk7w7",
         "text_normalized": "sore sore hujan rebahan bareng bocah cilik menonton nussa dan rara di youtube pakai wifi indihome biar lancar dong httpstcoyitrstkw"
        },
        {
         "Label": "negative remark",
         "No": 3,
         "Tweet": "indihome plis untuk tanggal 10,13 jangan kesurupan😭",
         "Username": "daeguv_",
         "_deepnote_index_column": 3,
         "label-encoded": 2,
         "text_clean": "indihome plis untuk tanggal jangan kesurupan",
         "text_lower": "indihome plis untuk tanggal 10,13 jangan kesurupan😭",
         "text_normalized": "indihome tolong untuk tanggal jangan kesurupan"
        },
        {
         "Label": "indirect complaint",
         "No": 4,
         "Tweet": "INDIHOME NGAPASIIII",
         "Username": "fiorincha",
         "_deepnote_index_column": 4,
         "label-encoded": 0,
         "text_clean": "indihome ngapasiiii",
         "text_lower": "indihome ngapasiiii",
         "text_normalized": "indihome ngapasiiii"
        },
        {
         "Label": "direct compliment",
         "No": 5,
         "Tweet": "Mager Day. 😅 Ga masalah sih mager selama masih ada koneksi dari IndiHome 😜  https://t.co/mhx8Lbij3O",
         "Username": "fancyboy2608",
         "_deepnote_index_column": 5,
         "label-encoded": 3,
         "text_clean": "mager day ga masalah sih mager selama masih ada koneksi dari indihome httpstcomhxlbijo",
         "text_lower": "mager day. 😅 ga masalah sih mager selama masih ada koneksi dari indihome 😜  https://t.co/mhx8lbij3o",
         "text_normalized": "malas gerak day tidak masalah sih malas gerak selama masih ada koneksi dari indihome httpstcomhxlbijo"
        },
        {
         "Label": "direct complaint",
         "No": 6,
         "Tweet": "asli indihome knp si nangis😭👎  #.",
         "Username": "caormilla",
         "_deepnote_index_column": 6,
         "label-encoded": 4,
         "text_clean": "asli indihome knp si nangis",
         "text_lower": "asli indihome knp si nangis😭👎  #.",
         "text_normalized": "asli indihome kenapa sih menangis"
        },
        {
         "Label": "direct compliment",
         "No": 7,
         "Tweet": "Baru dpt iklan dari Indihome untuk movie Dream work kayaknya keren nih. Lumayan tambahan film animasi buat bocah2 dirumah 💓  https://t.co/OWcoIMlWFq",
         "Username": "indryindryindry",
         "_deepnote_index_column": 7,
         "label-encoded": 3,
         "text_clean": "baru dpt iklan dari indihome untuk movie dream work kayaknya keren nih lumayan tambahan film animasi buat bocah dirumah httpstcoowcoimlwfq",
         "text_lower": "baru dpt iklan dari indihome untuk movie dream work kayaknya keren nih. lumayan tambahan film animasi buat bocah2 dirumah 💓  https://t.co/owcoimlwfq",
         "text_normalized": "baru dapat iklan dari indihome untuk film dream work kayaknya keren nih lumayan tambahan film animasi buat bocah di rumah httpstcoowcoimlwfq"
        },
        {
         "Label": "direct complaint",
         "No": 8,
         "Tweet": "Ini indihome sama kartu telkomsel aing lg bermasalah ya? Kok lelet bgt shit mo ngapain2 susah😩",
         "Username": "butterkookiezz",
         "_deepnote_index_column": 8,
         "label-encoded": 4,
         "text_clean": "ini indihome sama kartu telkomsel aing lg bermasalah ya kok lelet bgt shit mo ngapain susah",
         "text_lower": "ini indihome sama kartu telkomsel aing lg bermasalah ya? kok lelet bgt shit mo ngapain2 susah😩",
         "text_normalized": "ini indihome sama kartu telkomsel aku lagi bermasalah ya kok lelet banget shit mau apa susah"
        },
        {
         "Label": "direct compliment",
         "No": 9,
         "Tweet": "Hanya di indihome gue bisa puas nonton bola",
         "Username": "minaniiiii",
         "_deepnote_index_column": 9,
         "label-encoded": 3,
         "text_clean": "hanya di indihome gue bisa puas nonton bola",
         "text_lower": "hanya di indihome gue bisa puas nonton bola",
         "text_normalized": "hanya di indihome gue bisa puas menonton bola"
        }
       ]
      },
      "text/html": [
       "<div>\n",
       "<style scoped>\n",
       "    .dataframe tbody tr th:only-of-type {\n",
       "        vertical-align: middle;\n",
       "    }\n",
       "\n",
       "    .dataframe tbody tr th {\n",
       "        vertical-align: top;\n",
       "    }\n",
       "\n",
       "    .dataframe thead th {\n",
       "        text-align: right;\n",
       "    }\n",
       "</style>\n",
       "<table border=\"1\" class=\"dataframe\">\n",
       "  <thead>\n",
       "    <tr style=\"text-align: right;\">\n",
       "      <th></th>\n",
       "      <th>No</th>\n",
       "      <th>Label</th>\n",
       "      <th>Username</th>\n",
       "      <th>Tweet</th>\n",
       "      <th>label-encoded</th>\n",
       "      <th>text_lower</th>\n",
       "      <th>text_clean</th>\n",
       "      <th>text_normalized</th>\n",
       "    </tr>\n",
       "  </thead>\n",
       "  <tbody>\n",
       "    <tr>\n",
       "      <th>0</th>\n",
       "      <td>0</td>\n",
       "      <td>none</td>\n",
       "      <td>chyrisalys</td>\n",
       "      <td>wifi watcha pasti indihome</td>\n",
       "      <td>5</td>\n",
       "      <td>wifi watcha pasti indihome</td>\n",
       "      <td>wifi watcha pasti indihome</td>\n",
       "      <td>wifi watcha pasti indihome</td>\n",
       "    </tr>\n",
       "    <tr>\n",
       "      <th>1</th>\n",
       "      <td>1</td>\n",
       "      <td>indirect complaint</td>\n",
       "      <td>woiidal</td>\n",
       "      <td>indihome ada masalah apasih??!!</td>\n",
       "      <td>0</td>\n",
       "      <td>indihome ada masalah apasih??!!</td>\n",
       "      <td>indihome ada masalah apasih</td>\n",
       "      <td>indihome ada masalah apa sih</td>\n",
       "    </tr>\n",
       "    <tr>\n",
       "      <th>2</th>\n",
       "      <td>2</td>\n",
       "      <td>remark</td>\n",
       "      <td>ranieaw</td>\n",
       "      <td>sore sore hujan rebahan bareng bocil nonton nu...</td>\n",
       "      <td>1</td>\n",
       "      <td>sore sore hujan rebahan bareng bocil nonton nu...</td>\n",
       "      <td>sore sore hujan rebahan bareng bocil nonton nu...</td>\n",
       "      <td>sore sore hujan rebahan bareng bocah cilik men...</td>\n",
       "    </tr>\n",
       "    <tr>\n",
       "      <th>3</th>\n",
       "      <td>3</td>\n",
       "      <td>negative remark</td>\n",
       "      <td>daeguv_</td>\n",
       "      <td>indihome plis untuk tanggal 10,13 jangan kesur...</td>\n",
       "      <td>2</td>\n",
       "      <td>indihome plis untuk tanggal 10,13 jangan kesur...</td>\n",
       "      <td>indihome plis untuk tanggal jangan kesurupan</td>\n",
       "      <td>indihome tolong untuk tanggal jangan kesurupan</td>\n",
       "    </tr>\n",
       "    <tr>\n",
       "      <th>4</th>\n",
       "      <td>4</td>\n",
       "      <td>indirect complaint</td>\n",
       "      <td>fiorincha</td>\n",
       "      <td>INDIHOME NGAPASIIII</td>\n",
       "      <td>0</td>\n",
       "      <td>indihome ngapasiiii</td>\n",
       "      <td>indihome ngapasiiii</td>\n",
       "      <td>indihome ngapasiiii</td>\n",
       "    </tr>\n",
       "    <tr>\n",
       "      <th>...</th>\n",
       "      <td>...</td>\n",
       "      <td>...</td>\n",
       "      <td>...</td>\n",
       "      <td>...</td>\n",
       "      <td>...</td>\n",
       "      <td>...</td>\n",
       "      <td>...</td>\n",
       "      <td>...</td>\n",
       "    </tr>\n",
       "    <tr>\n",
       "      <th>994</th>\n",
       "      <td>994</td>\n",
       "      <td>inquiry</td>\n",
       "      <td>pecintamochi</td>\n",
       "      <td>@IndiHomeCare Min, kalo jatuh tempo pembayaran...</td>\n",
       "      <td>6</td>\n",
       "      <td>@indihomecare min, kalo jatuh tempo pembayaran...</td>\n",
       "      <td>indihomecare min kalo jatuh tempo pembayaran i...</td>\n",
       "      <td>indihomecare min kalau jatuh tempo pembayaran ...</td>\n",
       "    </tr>\n",
       "    <tr>\n",
       "      <th>995</th>\n",
       "      <td>995</td>\n",
       "      <td>inquiry</td>\n",
       "      <td>tetehaisyah51</td>\n",
       "      <td>@IndiHomeCare Min, 1 IndiHome TV bisa gak berl...</td>\n",
       "      <td>6</td>\n",
       "      <td>@indihomecare min, 1 indihome tv bisa gak berl...</td>\n",
       "      <td>indihomecare min indihome tv bisa gak berlangg...</td>\n",
       "      <td>indihomecare min indihome televisi bisa tidak ...</td>\n",
       "    </tr>\n",
       "    <tr>\n",
       "      <th>997</th>\n",
       "      <td>997</td>\n",
       "      <td>direct complaint</td>\n",
       "      <td>untextend</td>\n",
       "      <td>@IndiHomeCare @fauzindrianto Dari semalem down...</td>\n",
       "      <td>4</td>\n",
       "      <td>@indihomecare @fauzindrianto dari semalem down...</td>\n",
       "      <td>indihomecare fauzindrianto dari semalem down g...</td>\n",
       "      <td>indihomecare fauzindrianto dari semalam down t...</td>\n",
       "    </tr>\n",
       "    <tr>\n",
       "      <th>1000</th>\n",
       "      <td>1000</td>\n",
       "      <td>negative remark</td>\n",
       "      <td>untextend</td>\n",
       "      <td>@JefriHandri Sini indihome down dr semalem jam...</td>\n",
       "      <td>2</td>\n",
       "      <td>@jefrihandri sini indihome down dr semalem jam...</td>\n",
       "      <td>jefrihandri sini indihome down dr semalem jam ...</td>\n",
       "      <td>jefrihandri sini indihome down dari semalam ja...</td>\n",
       "    </tr>\n",
       "    <tr>\n",
       "      <th>1002</th>\n",
       "      <td>1002</td>\n",
       "      <td>inquiry</td>\n",
       "      <td>narshashila</td>\n",
       "      <td>@IndiHomeCare daftar indihome lewat mana?</td>\n",
       "      <td>6</td>\n",
       "      <td>@indihomecare daftar indihome lewat mana?</td>\n",
       "      <td>indihomecare daftar indihome lewat mana</td>\n",
       "      <td>indihomecare daftar indihome lewat mana</td>\n",
       "    </tr>\n",
       "  </tbody>\n",
       "</table>\n",
       "<p>722 rows × 8 columns</p>\n",
       "</div>"
      ],
      "text/plain": [
       "        No               Label       Username  \\\n",
       "0        0                none     chyrisalys   \n",
       "1        1  indirect complaint        woiidal   \n",
       "2        2              remark        ranieaw   \n",
       "3        3     negative remark        daeguv_   \n",
       "4        4  indirect complaint      fiorincha   \n",
       "...    ...                 ...            ...   \n",
       "994    994             inquiry   pecintamochi   \n",
       "995    995             inquiry  tetehaisyah51   \n",
       "997    997    direct complaint      untextend   \n",
       "1000  1000     negative remark      untextend   \n",
       "1002  1002             inquiry    narshashila   \n",
       "\n",
       "                                                  Tweet  label-encoded  \\\n",
       "0                            wifi watcha pasti indihome              5   \n",
       "1                       indihome ada masalah apasih??!!              0   \n",
       "2     sore sore hujan rebahan bareng bocil nonton nu...              1   \n",
       "3     indihome plis untuk tanggal 10,13 jangan kesur...              2   \n",
       "4                                   INDIHOME NGAPASIIII              0   \n",
       "...                                                 ...            ...   \n",
       "994   @IndiHomeCare Min, kalo jatuh tempo pembayaran...              6   \n",
       "995   @IndiHomeCare Min, 1 IndiHome TV bisa gak berl...              6   \n",
       "997   @IndiHomeCare @fauzindrianto Dari semalem down...              4   \n",
       "1000  @JefriHandri Sini indihome down dr semalem jam...              2   \n",
       "1002          @IndiHomeCare daftar indihome lewat mana?              6   \n",
       "\n",
       "                                             text_lower  \\\n",
       "0                            wifi watcha pasti indihome   \n",
       "1                       indihome ada masalah apasih??!!   \n",
       "2     sore sore hujan rebahan bareng bocil nonton nu...   \n",
       "3     indihome plis untuk tanggal 10,13 jangan kesur...   \n",
       "4                                   indihome ngapasiiii   \n",
       "...                                                 ...   \n",
       "994   @indihomecare min, kalo jatuh tempo pembayaran...   \n",
       "995   @indihomecare min, 1 indihome tv bisa gak berl...   \n",
       "997   @indihomecare @fauzindrianto dari semalem down...   \n",
       "1000  @jefrihandri sini indihome down dr semalem jam...   \n",
       "1002          @indihomecare daftar indihome lewat mana?   \n",
       "\n",
       "                                             text_clean  \\\n",
       "0                            wifi watcha pasti indihome   \n",
       "1                           indihome ada masalah apasih   \n",
       "2     sore sore hujan rebahan bareng bocil nonton nu...   \n",
       "3          indihome plis untuk tanggal jangan kesurupan   \n",
       "4                                   indihome ngapasiiii   \n",
       "...                                                 ...   \n",
       "994   indihomecare min kalo jatuh tempo pembayaran i...   \n",
       "995   indihomecare min indihome tv bisa gak berlangg...   \n",
       "997   indihomecare fauzindrianto dari semalem down g...   \n",
       "1000  jefrihandri sini indihome down dr semalem jam ...   \n",
       "1002            indihomecare daftar indihome lewat mana   \n",
       "\n",
       "                                        text_normalized  \n",
       "0                            wifi watcha pasti indihome  \n",
       "1                          indihome ada masalah apa sih  \n",
       "2     sore sore hujan rebahan bareng bocah cilik men...  \n",
       "3        indihome tolong untuk tanggal jangan kesurupan  \n",
       "4                                   indihome ngapasiiii  \n",
       "...                                                 ...  \n",
       "994   indihomecare min kalau jatuh tempo pembayaran ...  \n",
       "995   indihomecare min indihome televisi bisa tidak ...  \n",
       "997   indihomecare fauzindrianto dari semalam down t...  \n",
       "1000  jefrihandri sini indihome down dari semalam ja...  \n",
       "1002            indihomecare daftar indihome lewat mana  \n",
       "\n",
       "[722 rows x 8 columns]"
      ]
     },
     "execution_count": 21,
     "metadata": {},
     "output_type": "execute_result"
    }
   ],
   "source": [
    "df2['text_normalized'] = df2['text_clean'].apply(lambda x: normalize_text(x))\n",
    "df2"
   ]
  },
  {
   "cell_type": "code",
   "execution_count": null,
   "metadata": {
    "cell_id": "59062539f9564ece9d2a424e79c1e3e4",
    "deepnote_cell_height": 320.125,
    "deepnote_cell_type": "code",
    "deepnote_to_be_reexecuted": false,
    "execution_millis": 586,
    "execution_start": 1648561417467,
    "source_hash": "3be5470c",
    "tags": []
   },
   "outputs": [
    {
     "name": "stderr",
     "output_type": "stream",
     "text": [
      "/shared-libs/python3.7/py-core/lib/python3.7/site-packages/ipykernel_launcher.py:7: SettingWithCopyWarning: \n",
      "A value is trying to be set on a copy of a slice from a DataFrame.\n",
      "Try using .loc[row_indexer,col_indexer] = value instead\n",
      "\n",
      "See the caveats in the documentation: https://pandas.pydata.org/pandas-docs/stable/user_guide/indexing.html#returning-a-view-versus-a-copy\n",
      "  import sys\n"
     ]
    }
   ],
   "source": [
    "from Sastrawi.Stemmer.StemmerFactory import StemmerFactory\n",
    "\n",
    "# create stemmer\n",
    "factory = StemmerFactory()\n",
    "stemmer = factory.create_stemmer()\n",
    "\n",
    "df2['text_stemmed'] = df2['text_normalized'].apply(lambda x: stemmer.stem(x))"
   ]
  },
  {
   "cell_type": "markdown",
   "metadata": {
    "cell_id": "61b9687a2f094ea9936eadba1e262df5",
    "deepnote_cell_height": 69.9375,
    "deepnote_cell_type": "markdown",
    "tags": []
   },
   "source": [
    "## Exploratory Data Analysis (EDA)"
   ]
  },
  {
   "cell_type": "markdown",
   "metadata": {
    "cell_id": "50a365186b8a44618bb21bd4c12eb614",
    "deepnote_cell_height": 53.9375,
    "deepnote_cell_type": "markdown",
    "tags": []
   },
   "source": [
    "#### unique words"
   ]
  },
  {
   "cell_type": "code",
   "execution_count": null,
   "metadata": {
    "cell_id": "3c89d8f0ece94ccab77a97504535d6fc",
    "deepnote_cell_height": 334.109375,
    "deepnote_cell_type": "code",
    "deepnote_output_heights": [
     21.1875
    ],
    "deepnote_to_be_reexecuted": false,
    "execution_millis": 298,
    "execution_start": 1648561440292,
    "source_hash": "c0d00b44",
    "tags": []
   },
   "outputs": [
    {
     "data": {
      "text/plain": [
       "2348"
      ]
     },
     "execution_count": 24,
     "metadata": {},
     "output_type": "execute_result"
    }
   ],
   "source": [
    "from collections import Counter\n",
    "\n",
    "# function to count unique words\n",
    "def counter_word(text):\n",
    "    count = Counter()\n",
    "    for sentence in text.values:\n",
    "        for word in sentence.split():\n",
    "            count[word] += 1\n",
    "    return count\n",
    "\n",
    "# find out how many unique words in our data\n",
    "unique_words = counter_word(df2['text_stemmed'])\n",
    "len(unique_words)"
   ]
  },
  {
   "cell_type": "code",
   "execution_count": null,
   "metadata": {
    "cell_id": "8817f9d199634207af2136dede4cef0f",
    "deepnote_cell_height": 308.9375,
    "deepnote_cell_type": "code",
    "deepnote_output_heights": [
     194.03125
    ],
    "deepnote_to_be_reexecuted": false,
    "execution_millis": 4,
    "execution_start": 1648561448762,
    "source_hash": "ec69f506",
    "tags": []
   },
   "outputs": [
    {
     "data": {
      "text/plain": [
       "[('indihome', 776),\n",
       " ('tidak', 197),\n",
       " ('di', 163),\n",
       " ('indihomecare', 146),\n",
       " ('yang', 142),\n",
       " ('sudah', 140),\n",
       " ('ini', 134),\n",
       " ('ya', 114),\n",
       " ('pakai', 111),\n",
       " ('kalau', 101)]"
      ]
     },
     "execution_count": 25,
     "metadata": {},
     "output_type": "execute_result"
    }
   ],
   "source": [
    "# take a look at the five most common words\n",
    "unique_words.most_common(10)"
   ]
  },
  {
   "cell_type": "code",
   "execution_count": null,
   "metadata": {
    "cell_id": "de439e1b4f9b4a99be4ba9273230da6c",
    "deepnote_cell_height": 365.375,
    "deepnote_cell_type": "code",
    "deepnote_output_heights": [
     232.453125
    ],
    "deepnote_to_be_reexecuted": false,
    "execution_millis": 486,
    "execution_start": 1648561455483,
    "source_hash": "9b6b67d4",
    "tags": []
   },
   "outputs": [
    {
     "data": {
      "text/plain": [
       "1      1452\n",
       "2       275\n",
       "3       146\n",
       "4        89\n",
       "5        56\n",
       "       ... \n",
       "94        1\n",
       "114       1\n",
       "134       1\n",
       "142       1\n",
       "197       1\n",
       "Length: 65, dtype: int64"
      ]
     },
     "execution_count": 26,
     "metadata": {},
     "output_type": "execute_result"
    }
   ],
   "source": [
    "# create a frequency table of word frequency\n",
    "freq = [freq for word, freq in unique_words.items()]\n",
    "pd.Series(freq).value_counts()"
   ]
  },
  {
   "cell_type": "code",
   "execution_count": null,
   "metadata": {
    "cell_id": "a5e573eb7b2049fe8f5200b9af462926",
    "deepnote_cell_height": 347.359375,
    "deepnote_cell_type": "code",
    "deepnote_output_heights": [
     232.453125
    ],
    "deepnote_to_be_reexecuted": false,
    "execution_millis": 3,
    "execution_start": 1648561614256,
    "source_hash": "73cd7475",
    "tags": []
   },
   "outputs": [
    {
     "data": {
      "text/plain": [
       "0        4\n",
       "1        5\n",
       "2       20\n",
       "3        6\n",
       "4        2\n",
       "        ..\n",
       "994     12\n",
       "995     11\n",
       "997      9\n",
       "1000    14\n",
       "1002     5\n",
       "Name: text_stemmed, Length: 722, dtype: int64"
      ]
     },
     "execution_count": 27,
     "metadata": {},
     "output_type": "execute_result"
    }
   ],
   "source": [
    "df2['text_stemmed'].apply(lambda x: len(x.split()))\n"
   ]
  },
  {
   "cell_type": "code",
   "execution_count": null,
   "metadata": {
    "cell_id": "efe8270765434a359102524a2863a59d",
    "deepnote_cell_height": 80.9375,
    "deepnote_cell_type": "code",
    "deepnote_to_be_reexecuted": false,
    "execution_millis": 1,
    "execution_start": 1648561706196,
    "source_hash": "77b41770",
    "tags": []
   },
   "outputs": [],
   "source": [
    "sentence_length = df2['text_stemmed'].apply(lambda x: len(x.split()))"
   ]
  },
  {
   "cell_type": "code",
   "execution_count": null,
   "metadata": {
    "cell_id": "09bae0d810194bd787402095a8a67edd",
    "deepnote_cell_height": 432.0625,
    "deepnote_cell_type": "code",
    "deepnote_output_heights": [
     21.1875,
     264.984375
    ],
    "deepnote_to_be_reexecuted": false,
    "execution_millis": 301,
    "execution_start": 1648561715183,
    "source_hash": "3ef159da",
    "tags": []
   },
   "outputs": [
    {
     "data": {
      "text/plain": [
       "<AxesSubplot:xlabel='text_stemmed', ylabel='Count'>"
      ]
     },
     "execution_count": 29,
     "metadata": {},
     "output_type": "execute_result"
    },
    {
     "data": {
      "image/png": "[encoded data removed]",
      "text/plain": [
       "<Figure size 432x288 with 1 Axes>"
      ]
     },
     "metadata": {
      "image/png": {
       "height": 263,
       "width": 382
      },
      "needs_background": "light"
     },
     "output_type": "display_data"
    }
   ],
   "source": [
    "# seaborn\n",
    "sns.histplot(sentence_length, binwidth=1)"
   ]
  },
  {
   "cell_type": "code",
   "execution_count": null,
   "metadata": {
    "cell_id": "2f9d3614501c42e897c1864b7ed3d02f",
    "deepnote_cell_height": 289.734375,
    "deepnote_cell_type": "code",
    "deepnote_output_heights": [
     174.828125
    ],
    "deepnote_to_be_reexecuted": false,
    "execution_millis": 164,
    "execution_start": 1648561734894,
    "source_hash": "fe2a410e",
    "tags": []
   },
   "outputs": [
    {
     "data": {
      "text/plain": [
       "count    722.000000\n",
       "mean      14.689751\n",
       "std       10.569269\n",
       "min        1.000000\n",
       "25%        6.000000\n",
       "50%       12.000000\n",
       "75%       20.000000\n",
       "max       47.000000\n",
       "Name: text_stemmed, dtype: float64"
      ]
     },
     "execution_count": 30,
     "metadata": {},
     "output_type": "execute_result"
    }
   ],
   "source": [
    "# five number summary\n",
    "sentence_length.describe()"
   ]
  },
  {
   "cell_type": "code",
   "execution_count": null,
   "metadata": {
    "cell_id": "500884ab8206400c8fb8bf6df8fb73b8",
    "deepnote_cell_height": 83.921875,
    "deepnote_cell_type": "code",
    "tags": []
   },
   "outputs": [],
   "source": [
    "from keras.preprocessing.text import Tokenizer\n"
   ]
  },
  {
   "cell_type": "markdown",
   "metadata": {
    "created_in_deepnote_cell": true,
    "deepnote_cell_type": "markdown",
    "tags": []
   },
   "source": []
  },
  {
   "cell_type": "code",
   "execution_count": null,
   "metadata": {},
   "outputs": [],
   "source": []
  }
 ],
 "metadata": {
  "deepnote": {
   "is_reactive": false
  },
  "deepnote_execution_queue": [],
  "deepnote_notebook_id": "823684cb-13cb-4349-9169-da6a69adfb7b",
  "kernelspec": {
   "display_name": "telkomathon3",
   "language": "python",
   "name": "telkomathon3"
  },
  "language_info": {
   "codemirror_mode": {
    "name": "ipython",
    "version": 3
   },
   "file_extension": ".py",
   "mimetype": "text/x-python",
   "name": "python",
   "nbconvert_exporter": "python",
   "pygments_lexer": "ipython3",
   "version": "3.9.7"
  }
 },
 "nbformat": 4,
 "nbformat_minor": 2
}
